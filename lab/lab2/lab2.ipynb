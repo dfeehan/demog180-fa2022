{
 "cells": [
  {
   "cell_type": "code",
   "execution_count": null,
   "id": "f5e18545",
   "metadata": {
    "deletable": false,
    "editable": false
   },
   "outputs": [],
   "source": [
    "# Initialize Otter\n",
    "import otter\n",
    "grader = otter.Notebook(\"lab2.ipynb\")"
   ]
  },
  {
   "cell_type": "code",
   "execution_count": null,
   "id": "4628d8d9",
   "metadata": {},
   "outputs": [],
   "source": [
    "!pip install --upgrade networkx"
   ]
  },
  {
   "cell_type": "code",
   "execution_count": null,
   "id": "84658a79",
   "metadata": {},
   "outputs": [],
   "source": [
    "!pip install scipy==1.8.0"
   ]
  },
  {
   "cell_type": "code",
   "execution_count": null,
   "id": "c8d96a7b",
   "metadata": {},
   "outputs": [],
   "source": [
    "from IPython.core.display import HTML\n",
    "from datascience import *\n",
    "\n",
    "import matplotlib\n",
    "matplotlib.use('Agg')\n",
    "import matplotlib.pyplot as plt\n",
    "import numpy as np\n",
    "import os\n",
    "import networkx as nx\n",
    "plt.style.use('fivethirtyeight')\n",
    "\n",
    "%matplotlib inline"
   ]
  },
  {
   "cell_type": "markdown",
   "id": "c9e65c93",
   "metadata": {
    "collapsed": true
   },
   "source": [
    "# Lab 2"
   ]
  },
  {
   "cell_type": "markdown",
   "id": "9b917f33",
   "metadata": {},
   "source": [
    "# Working with complete network data"
   ]
  },
  {
   "cell_type": "markdown",
   "id": "ace1ec7a",
   "metadata": {},
   "source": [
    "To review, in our study of personal networks, we focused on individuals. Starting from a sample of individuals, we gathered information about other people connected to those individuals. \n",
    "\n",
    "Today, we will work with a different kind of network data, an entire population of individuals and all of the connections between them. I'll refer to this as the *complete network perspective*. The complete network perspective can be very useful, since it enables us to study how the actual structure of the network can affect important outcomes like the spread of a disease, information about job openings, and even social status.\n",
    "\n",
    "For almost any social network we study, we are interested in understanding the structure of the complete network. Unfortunately, it is typically extremely difficult to obtain complete network data. Most studies that have done so have put a tremendous amount of time, effort and resources into data collection.  Any time we analyze data---including complete network data---we have to bear in mind the strengths and limitations of the way that the data were collected."
   ]
  },
  {
   "cell_type": "markdown",
   "id": "9383545d",
   "metadata": {},
   "source": [
    "### The Add Health Study"
   ]
  },
  {
   "cell_type": "markdown",
   "id": "08b00f6f",
   "metadata": {},
   "source": [
    "For our first complete network dataset, we're going to be looking at data from a study called [Add Health](http://www.cpc.unc.edu/projects/addhealth). Here is a description of the study, taken from the front page of the [Add Health website](http://www.cpc.unc.edu/projects/addhealth):\n",
    "\n",
    "<blockquote>\n",
    "The National Longitudinal Study of Adolescent to Adult Health (Add Health) is a longitudinal study of a nationally representative sample of adolescents in grades 7-12 in the United States during the 1994-95 school year. The Add Health cohort has been followed into young adulthood with four in-home interviews, the most recent in 2008, when the sample was aged 24-32. Add Health is re-interviewing cohort members in a Wave V follow-up from 2016-2018 to collect social, environmental, behavioral, and biological data with which to track the emergence of chronic disease as the cohort moves through their fourth decade of life.\n",
    "<BR><BR>\n",
    "Add Health combines longitudinal survey data on respondents’ social, economic, psychological and physical well-being with contextual data on the family, neighborhood, community, school, friendships, peer groups, and romantic relationships, providing unique opportunities to study how social environments and behaviors in adolescence are linked to health and achievement outcomes in young adulthood. The fourth wave of interviews expanded the collection of biological data in Add Health to understand the social, behavioral, and biological linkages in health trajectories as the Add Health cohort ages through adulthood, and the fifth wave of data collection continues this biological data expansion.\n",
    "</blockquote>"
   ]
  },
  {
   "cell_type": "markdown",
   "id": "53590367",
   "metadata": {},
   "source": [
    "Here are some terms from that description that might not be familiar to you:\n",
    "\n",
    "* `longitudinal` - logitudinal studies follow people over time, instead of just interviewing people at one point in time\n",
    "* `cohort` - a group of people that is followed over time; for Add Health, the cohort is the group of people who were interviewed as 7-12th graders in 1994-95.\n",
    "* `nationally representative` - the participants in the study were chosen in a principled way that enables researchers to make inferences about the US population from the small number of people they interview"
   ]
  },
  {
   "cell_type": "markdown",
   "id": "3c742eb1",
   "metadata": {},
   "source": [
    "Add Health interviewed adolescents in many different schools that were randomly sampled from all over the US. We're going to work with the data from the friendship network of students in just one of those schools today."
   ]
  },
  {
   "cell_type": "markdown",
   "id": "1747c747",
   "metadata": {},
   "source": [
    "Now that we have some background, we'll need to talk a bit about some of the technical details that go into working with complete network data."
   ]
  },
  {
   "cell_type": "markdown",
   "id": "93d14f2b",
   "metadata": {},
   "source": [
    "# Representing a network in a computer"
   ]
  },
  {
   "cell_type": "markdown",
   "id": "f7596342",
   "metadata": {},
   "source": [
    "<!-- BEGIN QUESTION -->\n",
    "\n",
    "## Question 1:\n",
    "How can we turn a network -- which we have been thinking of an abstract concept -- into something concrete that we can store and manipulate in a computer? What information do we need to be able to describe everything about a network? What are the advantages and disadvantages of the different solutions you can think of?"
   ]
  },
  {
   "cell_type": "markdown",
   "id": "805030a6",
   "metadata": {},
   "source": [
    "_Type your answer here, replacing this text._"
   ]
  },
  {
   "cell_type": "markdown",
   "id": "2f5d887e",
   "metadata": {},
   "source": [
    "<!-- END QUESTION -->\n",
    "\n",
    "### Loading a complete network"
   ]
  },
  {
   "cell_type": "markdown",
   "id": "48ef5060",
   "metadata": {},
   "source": [
    "We will be exploring friendships from an American school; the data can be found at [http://moreno.ss.uci.edu/data.html#adhealth](http://moreno.ss.uci.edu/data.html#adhealth)."
   ]
  },
  {
   "cell_type": "markdown",
   "id": "b9ada40a",
   "metadata": {},
   "source": [
    "The data are in [UCI format](https://gephi.org/users/supported-graph-formats/ucinet-dl-format/). [UCI](https://sites.google.com/site/ucinetsoftware/home) is a tool that can be used to perform all sorts of network analysis. We won't be using UCI in this class, but you might come across it in future classes. For now, we're interested in some of the data that are included with UCI. These UCI datasets contain edge lists which the Python package `networkx` can read in."
   ]
  },
  {
   "cell_type": "markdown",
   "id": "7197a99a",
   "metadata": {},
   "source": [
    "The code below opens up the data file, but just reads it as lines of text (instead of interpreting the lines of text as a description of a network).<BR>\n",
    "\n",
    "Run the code chunk below, and take a look at its output."
   ]
  },
  {
   "cell_type": "code",
   "execution_count": null,
   "id": "9294d996",
   "metadata": {},
   "outputs": [],
   "source": [
    "os.getcwd()"
   ]
  },
  {
   "cell_type": "code",
   "execution_count": null,
   "id": "78ffd7d1",
   "metadata": {},
   "outputs": [],
   "source": [
    "# this file was downloaded from\n",
    "# http://moreno.ss.uci.edu/data.html#adhealth\n",
    "edge_file = os.path.join(\"data\", \"comm1.dat\")\n",
    "with open(edge_file, 'r') as f:\n",
    "    edge_lines = f.readlines()"
   ]
  },
  {
   "cell_type": "code",
   "execution_count": null,
   "id": "288fbec4",
   "metadata": {},
   "outputs": [],
   "source": [
    "edge_lines"
   ]
  },
  {
   "cell_type": "markdown",
   "id": "49f10dcb",
   "metadata": {},
   "source": [
    "Note that it looks like there are 4 extraneous lines at the top of the file before the edge list starts. Fortunately, the `networkx` package is smart enough to skip these four lines. "
   ]
  },
  {
   "cell_type": "markdown",
   "id": "62f50fa3",
   "metadata": {},
   "source": [
    "Each line of the dataset has three numbers on it. The first two numbers are the nodes representing the end point of the respective edges, while the third number indicates the edge of each weight.\n",
    "*[Hint: In order to understand how the data are formatted, read the \"Description\" section of the [website](http://moreno.ss.uci.edu/data.html#adhealth) where the data can be downloaded.]*\n",
    "\n"
   ]
  },
  {
   "cell_type": "markdown",
   "id": "99598022",
   "metadata": {},
   "source": [
    "In order to convert the edgelist contained in the datafile into a `networkx` object, we use the `nx.parse_edgelist` function:"
   ]
  },
  {
   "cell_type": "code",
   "execution_count": null,
   "id": "185fcba1",
   "metadata": {},
   "outputs": [],
   "source": [
    "g = nx.parse_edgelist(edge_lines, nodetype=int, data=[('activity_level', float)])"
   ]
  },
  {
   "cell_type": "markdown",
   "id": "ca1e9ddd",
   "metadata": {},
   "source": [
    "`g` is now a network object. And we will be working with `g` from now on.\n",
    "\n",
    "You can see some more information about how this function works by looking at the help file:"
   ]
  },
  {
   "cell_type": "code",
   "execution_count": null,
   "id": "c5870afb",
   "metadata": {},
   "outputs": [],
   "source": [
    "nx.parse_edgelist?"
   ]
  },
  {
   "cell_type": "markdown",
   "id": "6dcc48d4",
   "metadata": {},
   "source": [
    "In addition to the lines from the datafile, we also passed a couple other arguments to the `parse_edgelist` function. They are:\n",
    "\n",
    "* `nodetype` - specifies the Python type used to represent each node. We have integer ids, so we use `int` here\n",
    "* `data` - describes any extra information about each edge that is contained in the edge list; in our case, there is a floating point value that describes the amount of interaction an edge represents. See the [data description](http://moreno.ss.uci.edu/data.html#adhealth) and the `parse_edgelist` help file for more information"
   ]
  },
  {
   "cell_type": "markdown",
   "id": "3751708e",
   "metadata": {},
   "source": [
    "Now that we have read our edgelist into a `networkx` object, we can start to investigate this network.\n",
    "\n",
    "For example, we can list the edges in the network:"
   ]
  },
  {
   "cell_type": "code",
   "execution_count": null,
   "id": "3cab230f",
   "metadata": {
    "scrolled": true
   },
   "outputs": [],
   "source": [
    "g.edges()"
   ]
  },
  {
   "cell_type": "code",
   "execution_count": null,
   "id": "700f4d36",
   "metadata": {
    "scrolled": true
   },
   "outputs": [],
   "source": [
    "g.edges(data=True)"
   ]
  },
  {
   "cell_type": "markdown",
   "id": "2107d253",
   "metadata": {},
   "source": [
    "## Question 2:\n",
    "How many edges are in the network? How many nodes are there?<BR>\n",
    "[*Hint: there are many ways to answer this question. For example, to count the number of nodes, you may find it helpful to look at nodes() method.*]"
   ]
  },
  {
   "cell_type": "code",
   "execution_count": null,
   "id": "6f96a9e2",
   "metadata": {
    "tags": []
   },
   "outputs": [],
   "source": [
    "q2_edges = ...\n",
    "\n",
    "print('num edges: ', q2_edges)"
   ]
  },
  {
   "cell_type": "code",
   "execution_count": null,
   "id": "0e70e463",
   "metadata": {
    "tags": []
   },
   "outputs": [],
   "source": [
    "q2_nodes = ...\n",
    "\n",
    "print('num nodes: ', q2_nodes)"
   ]
  },
  {
   "cell_type": "code",
   "execution_count": null,
   "id": "25811aea",
   "metadata": {
    "deletable": false,
    "editable": false
   },
   "outputs": [],
   "source": [
    "grader.check(\"q2\")"
   ]
  },
  {
   "cell_type": "markdown",
   "id": "fef9583b",
   "metadata": {},
   "source": [
    "**Drawing graph**"
   ]
  },
  {
   "cell_type": "code",
   "execution_count": null,
   "id": "1829ea90",
   "metadata": {},
   "outputs": [],
   "source": [
    "nx.draw(g, with_labels=True)"
   ]
  },
  {
   "cell_type": "markdown",
   "id": "8c2e5e0e",
   "metadata": {},
   "source": [
    "In order to illustrate a few important concepts, it will be helpful to first investigate a small subset of the network that we just read in.\n",
    "\n",
    "Remember that a network can be represented mathematically as a `graph`. (Note: this is different concept from a plot, or a graphical display of data, which can also be called a graph.) A subset of a graph is called a `subgraph`."
   ]
  },
  {
   "cell_type": "markdown",
   "id": "fa62f3c8",
   "metadata": {},
   "source": [
    "The `subgraph` function enables us to create a subgraph from a specific set of node ids:"
   ]
  },
  {
   "cell_type": "code",
   "execution_count": null,
   "id": "d8e5af92",
   "metadata": {},
   "outputs": [],
   "source": [
    "g_subgraph = nx.subgraph(g, [3, 6, 29, 34, 40]) # pass in the network and a list of nodes"
   ]
  },
  {
   "cell_type": "markdown",
   "id": "c6cc4106",
   "metadata": {},
   "source": [
    "We can get a drawing of this subgraph using the `draw` function:"
   ]
  },
  {
   "cell_type": "code",
   "execution_count": null,
   "id": "07061da9",
   "metadata": {},
   "outputs": [],
   "source": [
    "nx.draw(g_subgraph, with_labels=True)"
   ]
  },
  {
   "cell_type": "markdown",
   "id": "45270cbf",
   "metadata": {},
   "source": [
    "We will discuss drawing networks in more detail below."
   ]
  },
  {
   "cell_type": "markdown",
   "id": "5037b67d",
   "metadata": {},
   "source": [
    "### Other representations of the network"
   ]
  },
  {
   "cell_type": "markdown",
   "id": "877813ab",
   "metadata": {},
   "source": [
    "We discussed how there are different ways to represent a network in a computer. The edge list is very practical because many real networks are quite *sparse*, meaning that they have relatively few edges"
   ]
  },
  {
   "cell_type": "markdown",
   "id": "25ebbfff",
   "metadata": {},
   "source": [
    "The edge list is a particularly convenient way of storing a description of a network in a file (or in memory) when the network is large and sparse.  Another way to store a network is as an *adjacency matrix*. The *adjacency matrix* is not too practical for large networks because the amount of memory it requires increases quickly with the number of nodes in the network. However, the adjacency matrix turns out to be convenient to work with mathematically, so many formal results rely upon it.\n",
    "\n",
    "The adjacency matrix is a matrix -- i.e., it is an array of numbers, like a table. It is square, meaning that it has the same number of rows and columns. These rows and columns are ordered so that each id corresponds to one row and column.\n",
    "\n",
    "Each entry in an adjacency matrix can be located by its coordinates: (row number, column number).  If an entry is 0, it means that there is no edge between the vertices corresponding to the row and column. If an entry is 1, then there is an edge between the vertices corresponding to the row and column. (For those who are curious, [Wikipedia](https://en.wikipedia.org/wiki/Adjacency_matrix) has a discussion of adjacency matrices.)\n",
    "\n",
    "<BR>"
   ]
  },
  {
   "cell_type": "markdown",
   "id": "e4235e6e",
   "metadata": {},
   "source": [
    "Of course, `networkx` will display the edge list and the adjacency matrix representations of the network for you. Call the `edges` method and the `nx.adjacency_matrix` function for subgraph g_subgraph."
   ]
  },
  {
   "cell_type": "code",
   "execution_count": null,
   "id": "7a3c136a",
   "metadata": {},
   "outputs": [],
   "source": [
    "g_subgraph.edges()"
   ]
  },
  {
   "cell_type": "code",
   "execution_count": null,
   "id": "bd220c4e",
   "metadata": {},
   "outputs": [],
   "source": [
    "nx.adjacency_matrix(g_subgraph)"
   ]
  },
  {
   "cell_type": "markdown",
   "id": "e3da2758",
   "metadata": {},
   "source": [
    "In order to actually show the contents of the adjacency matrix (since we know, in this case, that it's not too big), we can use the `todense` method:"
   ]
  },
  {
   "cell_type": "code",
   "execution_count": null,
   "id": "419ad530",
   "metadata": {},
   "outputs": [],
   "source": [
    "nx.adjacency_matrix(g_subgraph).todense()"
   ]
  },
  {
   "cell_type": "markdown",
   "id": "1c45130c",
   "metadata": {},
   "source": [
    "There's the matrix -- but, it's a bit hard to interpret it without knowing which node id corresponds to which row and column. If you look at the [help file](https://networkx.github.io/documentation/networkx-1.9/reference/generated/networkx.linalg.graphmatrix.adjacency_matrix.html) for `adjacency_matrix`, you will see that it says that, by default, it orders the rows/columns according to the results of `nodes()`. So we can interpret the matrix above by calling:"
   ]
  },
  {
   "cell_type": "code",
   "execution_count": null,
   "id": "effa9d40",
   "metadata": {},
   "outputs": [],
   "source": [
    "g_subgraph.nodes()"
   ]
  },
  {
   "cell_type": "markdown",
   "id": "9964ba2f",
   "metadata": {},
   "source": [
    "Check that the matrix you get makes sense by comparing it to the plot above."
   ]
  },
  {
   "cell_type": "markdown",
   "id": "ed39ff36",
   "metadata": {},
   "source": [
    "### Plotting a network"
   ]
  },
  {
   "cell_type": "markdown",
   "id": "c89c1778",
   "metadata": {},
   "source": [
    "As we saw above, `networkx` will help us draw a network using the `draw` function:"
   ]
  },
  {
   "cell_type": "code",
   "execution_count": null,
   "id": "cef6ac45",
   "metadata": {},
   "outputs": [],
   "source": [
    "nx.draw(g_subgraph)"
   ]
  },
  {
   "cell_type": "markdown",
   "id": "bd242772",
   "metadata": {},
   "source": [
    "Now look at the help files for the `networkx` package and try to find at least three other ways to draw the network.<BR> \n",
    "[*Hint: try typing `nx.draw` and then push Tab; you should see a list with possible completions pop up.*]\n",
    "\n",
    "Each time you make a new plot, read the help file and try to explain how this plot is made. (If you don't understand the help file, that is OK -- some if it goes beyond what we have discussed so far. Just do your best.)"
   ]
  },
  {
   "cell_type": "code",
   "execution_count": null,
   "id": "16039851",
   "metadata": {},
   "outputs": [],
   "source": [
    "nx.draw_circular(g_subgraph)"
   ]
  },
  {
   "cell_type": "code",
   "execution_count": null,
   "id": "de28020e",
   "metadata": {},
   "outputs": [],
   "source": [
    "nx.draw_spectral(g_subgraph)"
   ]
  },
  {
   "cell_type": "code",
   "execution_count": null,
   "id": "d79c196a",
   "metadata": {},
   "outputs": [],
   "source": [
    "nx.draw_kamada_kawai(g_subgraph)"
   ]
  },
  {
   "cell_type": "markdown",
   "id": "d8945ce9",
   "metadata": {},
   "source": [
    "<!-- BEGIN QUESTION -->\n",
    "\n",
    "## Question 3:\n",
    "What do you learn from these graphs about plotting networks?"
   ]
  },
  {
   "cell_type": "markdown",
   "id": "f33eaf55",
   "metadata": {},
   "source": [
    "_Type your answer here, replacing this text._"
   ]
  },
  {
   "cell_type": "markdown",
   "id": "a143a176",
   "metadata": {},
   "source": [
    "<!-- END QUESTION -->\n",
    "\n",
    "### The complete network"
   ]
  },
  {
   "cell_type": "markdown",
   "id": "281a99d1",
   "metadata": {
    "collapsed": true
   },
   "source": [
    "Remember that, so far, we have mostly been looking at a subgraph of the complete school network. This was helpful because it is easier to illustrate some network concepts with smaller networks. Now we will turn to the entire network."
   ]
  },
  {
   "cell_type": "markdown",
   "id": "0bb6f8a9",
   "metadata": {},
   "source": [
    "Let's use the `draw` function to draw the complete school network again. "
   ]
  },
  {
   "cell_type": "code",
   "execution_count": null,
   "id": "68f1ba1f",
   "metadata": {},
   "outputs": [],
   "source": [
    "nx.draw(g)"
   ]
  },
  {
   "cell_type": "markdown",
   "id": "08ae1cc2",
   "metadata": {},
   "source": [
    "**Practice** Now use the three other drawing methods that you discovered above to produce different plots of this network."
   ]
  },
  {
   "cell_type": "code",
   "execution_count": null,
   "id": "e3bbb2de",
   "metadata": {},
   "outputs": [],
   "source": [
    "nx.draw_random(g)"
   ]
  },
  {
   "cell_type": "code",
   "execution_count": null,
   "id": "edab3cd6",
   "metadata": {},
   "outputs": [],
   "source": [
    "nx.draw_spring(g)"
   ]
  },
  {
   "cell_type": "code",
   "execution_count": null,
   "id": "2fcacbe6",
   "metadata": {},
   "outputs": [],
   "source": [
    "nx.draw_shell(g)"
   ]
  },
  {
   "cell_type": "markdown",
   "id": "3b62abdf",
   "metadata": {},
   "source": [
    "<!-- BEGIN QUESTION -->\n",
    "\n",
    "## Question 4:\n",
    "As its name suggests, `draw_random` draws the network with a random layout. You will get a different plot each time you call `draw_random`. Write a simple loop that will call `draw_random` 10 different times, producing 10 different random drawings of this network.<BR>\n",
    "*[HINT: after each plot you draw in your loop, tell matplotlib that you want to start a new plot (rather than adding to the existing one) by calling `plt.figure()`]*"
   ]
  },
  {
   "cell_type": "code",
   "execution_count": null,
   "id": "8c2e9416",
   "metadata": {
    "scrolled": true,
    "tags": []
   },
   "outputs": [],
   "source": [
    "for i in range(10):\n",
    "    nx.draw_random(..., with_labels=True)\n",
    "    ..."
   ]
  },
  {
   "cell_type": "markdown",
   "id": "87b7424a",
   "metadata": {},
   "source": [
    "<!-- END QUESTION -->\n",
    "\n",
    "### Degree plots"
   ]
  },
  {
   "cell_type": "markdown",
   "id": "d8a91364",
   "metadata": {},
   "source": [
    "We brainstormed a few of the quantitative ways that we could try to summarize the structure of a network. One of these ways was to look at the *degrees* in the network. The degree of a node in the network is the number of other nodes that it is connected to."
   ]
  },
  {
   "cell_type": "markdown",
   "id": "7bff0bd7",
   "metadata": {},
   "source": [
    "Now we will investigate the degrees in this school friendship network."
   ]
  },
  {
   "cell_type": "markdown",
   "id": "262b2e72",
   "metadata": {},
   "source": [
    "Think for a second about what the collection of degrees in a network tells us: it tells us, for each node, how connected that node is.  Often, we are interested in understanding how much that varies from node to node. For example, in some networks, it can be the case that every node has exactly the same degree; in other networks, there can be huge differences in the degrees of different nodes."
   ]
  },
  {
   "cell_type": "markdown",
   "id": "3f03a4ae",
   "metadata": {},
   "source": [
    "## Question 5:\n",
    "Create a Table called `g_degrees` that has two columns:\n",
    "* `id` - has the id of each node in the network\n",
    "* `degree` - has the degree of each node in the network\n",
    "\n",
    "*[Hint: the `degree` method returns a dictionary, which is a type of data structure in Python. For our purposes, it is helpful to understand that you can get the entries in a dictionary using the `values` function. It will take a little exploring to figure out exactly how; feel free to work this out together with your neighbor.]*\n",
    "<BR>"
   ]
  },
  {
   "cell_type": "markdown",
   "id": "777575c6",
   "metadata": {},
   "source": [
    "**Degree Table for g_subgraph**"
   ]
  },
  {
   "cell_type": "code",
   "execution_count": null,
   "id": "e8627e74",
   "metadata": {},
   "outputs": [],
   "source": [
    "nx.draw(g_subgraph, with_labels=True)"
   ]
  },
  {
   "cell_type": "code",
   "execution_count": null,
   "id": "58e50b40",
   "metadata": {},
   "outputs": [],
   "source": [
    "## NB: if the following does not evaluate to True, please post on Ed or talk to the GSI...\n",
    "nx.__version__[0] == '2'"
   ]
  },
  {
   "cell_type": "code",
   "execution_count": null,
   "id": "aadc7d54",
   "metadata": {},
   "outputs": [],
   "source": [
    "# the function .degree returns the degrees of each node in the network you are working with\n",
    "g_subgraph.degree(g_subgraph.nodes())"
   ]
  },
  {
   "cell_type": "code",
   "execution_count": null,
   "id": "f88b6cef",
   "metadata": {},
   "outputs": [],
   "source": [
    "# you can use the list function to convert it into the list format that is easier to work with\n",
    "list(g_subgraph.degree(g_subgraph.nodes()))"
   ]
  },
  {
   "cell_type": "code",
   "execution_count": null,
   "id": "8dd4794d",
   "metadata": {},
   "outputs": [],
   "source": [
    "# then we want to create a table listing all the nodes and their degree levels\n",
    "g_degrees = Table().with_columns([\n",
    "    'id', g_subgraph.nodes(),\n",
    "    'degree', [y for (x,y) in list(g_subgraph.degree(g_subgraph.nodes()))] # use all the y values in the pairs (x,y) in the list\n",
    "])\n",
    "\n",
    "    \n",
    "g_degrees"
   ]
  },
  {
   "cell_type": "markdown",
   "id": "4f3371f9",
   "metadata": {},
   "source": [
    "**Now create degrees table for the complete graph (with network g) rather than the subgraph:**"
   ]
  },
  {
   "cell_type": "code",
   "execution_count": null,
   "id": "4894d3ad",
   "metadata": {
    "tags": []
   },
   "outputs": [],
   "source": [
    "g_degrees = Table().with_columns([\n",
    "    'id', ...,\n",
    "    'degree', [y for (x,y) in ...]\n",
    "])\n",
    "\n",
    "print(g_degrees)\n"
   ]
  },
  {
   "cell_type": "code",
   "execution_count": null,
   "id": "8113ffe9",
   "metadata": {
    "deletable": false,
    "editable": false
   },
   "outputs": [],
   "source": [
    "grader.check(\"q5\")"
   ]
  },
  {
   "cell_type": "markdown",
   "id": "cd94b451",
   "metadata": {},
   "source": [
    "Now you can make a histogram of the degrees of the nodes in the network"
   ]
  },
  {
   "cell_type": "code",
   "execution_count": null,
   "id": "6dd30fe2",
   "metadata": {},
   "outputs": [],
   "source": [
    "g_degrees.hist('degree', bins=np.arange(0, 16, 1))"
   ]
  },
  {
   "cell_type": "markdown",
   "id": "ffdbf233",
   "metadata": {},
   "source": [
    "### Optional challenge section"
   ]
  },
  {
   "cell_type": "markdown",
   "id": "0ebb6de0",
   "metadata": {},
   "source": [
    "We analyzed the network that is stored in `comm1.dat`. This is just the first network out of the 84 that the Add Health researchers collected. The filenames follow the pattern `comm1.dat`, `comm2.dat`, ..., `comm84.dat`.\n",
    "\n",
    "The function below takes the index of a network (from 1 to 84), opens up the corresponding network, and returns a `networkx` object."
   ]
  },
  {
   "cell_type": "code",
   "execution_count": null,
   "id": "2a557c60",
   "metadata": {},
   "outputs": [],
   "source": [
    "#import urllib\n",
    "\n",
    "def get_network_from_index(index):\n",
    "    #index=2\n",
    "    \n",
    "    filename=\"comm{}.dat\".format(index)\n",
    "\n",
    "    edge_file = os.path.join(\"./data\", filename)\n",
    "\n",
    "    with open(edge_file, 'r') as f:\n",
    "        edge_lines = f.readlines()\n",
    "\n",
    "    g = nx.parse_edgelist(edge_lines, nodetype=int, data=[('activity_level', float)])\n",
    "    return g"
   ]
  },
  {
   "cell_type": "markdown",
   "id": "af11c4e5",
   "metadata": {},
   "source": [
    "**Challenge:** Use the `get_network_from_index` to make a list that contains all 84 networks."
   ]
  },
  {
   "cell_type": "code",
   "execution_count": null,
   "id": "80e48c9e",
   "metadata": {},
   "outputs": [],
   "source": [
    "g_lst=[... for i in range(1,85)]\n",
    "len(g_lst)"
   ]
  },
  {
   "cell_type": "markdown",
   "id": "5d772a5f",
   "metadata": {},
   "source": [
    "**Challenge:** Now use a loop to make a plot of the node degrees for each network."
   ]
  },
  {
   "cell_type": "code",
   "execution_count": null,
   "id": "0a2a8236",
   "metadata": {},
   "outputs": [],
   "source": [
    "for g in g_lst:\n",
    "    g_degrees_tmp = Table().with_columns([\n",
    "        'id', ...,\n",
    "        'degree', [y for (x,y) in ...]\n",
    "    ])\n",
    "\n",
    "    g_degrees_tmp.hist('degree', bins=np.arange(0, 16, 1))\n",
    "    \n",
    "    plt.figure();"
   ]
  },
  {
   "cell_type": "markdown",
   "id": "79c121f8",
   "metadata": {},
   "source": [
    "## Back to the Required Portion of the lab"
   ]
  },
  {
   "cell_type": "markdown",
   "id": "b83cfe3d",
   "metadata": {},
   "source": [
    "We are continuing our study of complete network data from the [Add Health project](http://www.cpc.unc.edu/projects/addhealth).\n",
    "\n",
    "To recap, we started using the `networkx` package. We\n",
    "\n",
    "* learned how to read in a complete-network dataset\n",
    "* learned how to take a subgraph from a complete network\n",
    "* learned how to plot a network a few different ways\n",
    "* ... but we also discovered that plotting networks is only moderately useful for understanding them\n",
    "\n",
    "We're going to continue working with complete network data. First, we're going to learn about a few different ways to quantitatively describe various aspects of network structure. Then we're going to actually compute those metrics for all of the Add Health friendship networks. This will give us a chance to practice writing functions and using iteration."
   ]
  },
  {
   "cell_type": "markdown",
   "id": "775492cb",
   "metadata": {},
   "source": [
    "## Quantifying network structure"
   ]
  },
  {
   "cell_type": "markdown",
   "id": "7abdeb84",
   "metadata": {},
   "source": [
    "There are many different ways of quantifying network structure. We're going to start by discussing different ways of measuring *network connectivity*. Roughly speaking, a network has a high level of connectivity when any node can reach another node by following a small number of network edges. In the case of the Add Health student friendship networks, a highly connected network could arise when students are friends with many of their fellow students. A poorly connected network, on the other hand, could arise when students are segregated into distinct groups that don't interact much with one another."
   ]
  },
  {
   "cell_type": "markdown",
   "id": "abfc35ca",
   "metadata": {},
   "source": [
    "<img src=\"example_network.png\" style=\"width: 60%;\">"
   ]
  },
  {
   "cell_type": "markdown",
   "id": "00bb7351",
   "metadata": {},
   "source": [
    "Some of the **basic metrics** of this network are as follows"
   ]
  },
  {
   "cell_type": "markdown",
   "id": "92be955d",
   "metadata": {},
   "source": [
    "\n",
    "\n",
    "* number of nodes: 8\n",
    "* number of edges: 5\n",
    "* average degree: (1 + 1 + 3 + 1 + 1 + 1 + 1 + 1) / 8 = 10 / 8\n",
    "* number of connected components: 3\n",
    "\n"
   ]
  },
  {
   "cell_type": "markdown",
   "id": "7c36433e",
   "metadata": {},
   "source": [
    "And the **shortest distance** between each pair of nodes in the largest component of the graph is as follows"
   ]
  },
  {
   "cell_type": "markdown",
   "id": "30adf38a",
   "metadata": {},
   "source": [
    "\n",
    "\n",
    "|             |  node 1 | node 2 |  node 3 |  node 4 |\n",
    "|   :----:    |  :---:  |  :---: |  :---:  |  :---:  |\n",
    "|   node 1    |    -    |    2   |    1    |    2    |\n",
    "|   node 2    |    2    |    -   |    1    |    2    |\n",
    "|   node 3    |    1    |    1   |    -    |    1    |\n",
    "|   node 4    |    2    |    2   |    1    |    -    |"
   ]
  },
  {
   "cell_type": "markdown",
   "id": "a24df706",
   "metadata": {},
   "source": [
    "Furthermore, some additional **hand-calculated metrics** of the largest component of the graph are as follows."
   ]
  },
  {
   "cell_type": "markdown",
   "id": "588a426a",
   "metadata": {},
   "source": [
    "\n",
    "\n",
    "* average path length: 9 / 6\n",
    "* diameter: 2\n",
    "* radius: 1\n",
    "* fraction of nodes in periphery: 3 / 4\n",
    "* fraction of nodes in core: 1 / 4"
   ]
  },
  {
   "cell_type": "markdown",
   "id": "095d88ab",
   "metadata": {},
   "source": [
    "If you're unsure of what it means for a node to be the \"core\" or in the \"periphery\" look up those words and/or talk to the GSI."
   ]
  },
  {
   "cell_type": "markdown",
   "id": "9b8d6afa",
   "metadata": {},
   "source": [
    "### Calculating network metrics with `networkx` (please do this with a partner)"
   ]
  },
  {
   "cell_type": "markdown",
   "id": "83d3bdff",
   "metadata": {},
   "source": [
    "Now we are going to use the `networkx` package to check the calculations we made by hand."
   ]
  },
  {
   "cell_type": "code",
   "execution_count": null,
   "id": "fda05abe",
   "metadata": {},
   "outputs": [],
   "source": [
    "ex_network = nx.Graph([(1,3), (2,3), (3,4), (5,6), (7,8)])"
   ]
  },
  {
   "cell_type": "markdown",
   "id": "c2f62580",
   "metadata": {},
   "source": [
    "**Practice** Check that your network is correct by drawing it and comparing it to the image above."
   ]
  },
  {
   "cell_type": "code",
   "execution_count": null,
   "id": "44823516",
   "metadata": {},
   "outputs": [],
   "source": [
    "nx.draw(ex_network, with_labels=True)"
   ]
  },
  {
   "cell_type": "markdown",
   "id": "9e7f58b5",
   "metadata": {},
   "source": [
    "The next few questions ask you to use the following functions to check your calculations:\n",
    "\n",
    "* `number_of_nodes()`\n",
    "* `number_of_edges()`\n",
    "* `number_connected_components()`"
   ]
  },
  {
   "cell_type": "markdown",
   "id": "288fb084",
   "metadata": {},
   "source": [
    "Check the number of nodes"
   ]
  },
  {
   "cell_type": "code",
   "execution_count": null,
   "id": "fa0d855f",
   "metadata": {},
   "outputs": [],
   "source": [
    "ex_network.number_of_nodes()"
   ]
  },
  {
   "cell_type": "markdown",
   "id": "313a5070",
   "metadata": {},
   "source": [
    "Check the number of edges"
   ]
  },
  {
   "cell_type": "code",
   "execution_count": null,
   "id": "86bf7775",
   "metadata": {},
   "outputs": [],
   "source": [
    "ex_network.number_of_edges()"
   ]
  },
  {
   "cell_type": "markdown",
   "id": "c880b6e9",
   "metadata": {},
   "source": [
    "## Question 6: \n",
    "\n",
    "What is the average degree of this network?"
   ]
  },
  {
   "cell_type": "code",
   "execution_count": null,
   "id": "0d7759d3",
   "metadata": {
    "tags": []
   },
   "outputs": [],
   "source": [
    "q6 = ..."
   ]
  },
  {
   "cell_type": "code",
   "execution_count": null,
   "id": "57dadeb1",
   "metadata": {
    "deletable": false,
    "editable": false
   },
   "outputs": [],
   "source": [
    "grader.check(\"q6\")"
   ]
  },
  {
   "cell_type": "markdown",
   "id": "2990b759",
   "metadata": {},
   "source": [
    "Check the number of connected components"
   ]
  },
  {
   "cell_type": "code",
   "execution_count": null,
   "id": "fc9f0a9f",
   "metadata": {},
   "outputs": [],
   "source": [
    "nx.number_connected_components(ex_network)"
   ]
  },
  {
   "cell_type": "markdown",
   "id": "adca01ab",
   "metadata": {},
   "source": [
    "Several of the metrics we discussed only make sense when the entire network is one connected component. We will take the largest connected component of the example network (as we did when we made the calculations by hand above)."
   ]
  },
  {
   "cell_type": "markdown",
   "id": "2aa9568b",
   "metadata": {},
   "source": [
    "Take the largest connected component of the example network. (To do this, look at the help file for the `connected_components` function; the example in the help file shows how to do this)"
   ]
  },
  {
   "cell_type": "code",
   "execution_count": null,
   "id": "83c46a3c",
   "metadata": {},
   "outputs": [],
   "source": [
    "ex_network_lc = max((ex_network.subgraph(c) for c in nx.connected_components(ex_network)), key=len)"
   ]
  },
  {
   "cell_type": "markdown",
   "id": "6a146e65",
   "metadata": {},
   "source": [
    "Check that this worked correctly by drawing `ex_network_lc`"
   ]
  },
  {
   "cell_type": "code",
   "execution_count": null,
   "id": "f43282ac",
   "metadata": {},
   "outputs": [],
   "source": [
    "nx.draw(ex_network_lc, with_labels=True)"
   ]
  },
  {
   "cell_type": "markdown",
   "id": "b39d028d",
   "metadata": {},
   "source": [
    "The next few practices ask you to use the following functions to check your calculations:\n",
    "\n",
    "* `average_shortest_path_length()`\n",
    "* `radius()`\n",
    "* `diameter()`\n",
    "* `periphery()`\n",
    "* `center()`"
   ]
  },
  {
   "cell_type": "markdown",
   "id": "903efe32",
   "metadata": {},
   "source": [
    "Check the average shortest path length"
   ]
  },
  {
   "cell_type": "code",
   "execution_count": null,
   "id": "2ea1e2af",
   "metadata": {},
   "outputs": [],
   "source": [
    "nx.average_shortest_path_length(ex_network_lc)"
   ]
  },
  {
   "cell_type": "markdown",
   "id": "89220f5a",
   "metadata": {},
   "source": [
    "Check the radius"
   ]
  },
  {
   "cell_type": "code",
   "execution_count": null,
   "id": "c3297b25",
   "metadata": {},
   "outputs": [],
   "source": [
    "nx.radius(ex_network_lc)"
   ]
  },
  {
   "cell_type": "markdown",
   "id": "98a9441b",
   "metadata": {},
   "source": [
    "Check the diameter"
   ]
  },
  {
   "cell_type": "code",
   "execution_count": null,
   "id": "423b7952",
   "metadata": {},
   "outputs": [],
   "source": [
    "nx.diameter(ex_network_lc)"
   ]
  },
  {
   "cell_type": "markdown",
   "id": "de86cb3b",
   "metadata": {},
   "source": [
    "Check the fraction of nodes in the periphery"
   ]
  },
  {
   "cell_type": "code",
   "execution_count": null,
   "id": "05ae07d6",
   "metadata": {},
   "outputs": [],
   "source": [
    "len(nx.periphery(ex_network_lc)) / ex_network_lc.number_of_nodes()"
   ]
  },
  {
   "cell_type": "markdown",
   "id": "1c8d2bbe",
   "metadata": {},
   "source": [
    "Check which nodes are in the periphery"
   ]
  },
  {
   "cell_type": "code",
   "execution_count": null,
   "id": "530463e0",
   "metadata": {},
   "outputs": [],
   "source": [
    "nx.periphery(ex_network_lc)"
   ]
  },
  {
   "cell_type": "markdown",
   "id": "d1997a27",
   "metadata": {},
   "source": [
    "Check the fraction of nodes in the center"
   ]
  },
  {
   "cell_type": "code",
   "execution_count": null,
   "id": "e39baea2",
   "metadata": {},
   "outputs": [],
   "source": [
    "len(nx.center(ex_network_lc)) / ex_network_lc.number_of_nodes()"
   ]
  },
  {
   "cell_type": "markdown",
   "id": "41ebc68e",
   "metadata": {},
   "source": [
    "### Opening up a school network"
   ]
  },
  {
   "cell_type": "markdown",
   "id": "a42e21ee",
   "metadata": {},
   "source": [
    "Recall that the Add Health study sampled schools in many different communities. In part 1, we looked at the network from one of those communities. Now, we're going to look at *all* of the communities. By looking at many different friendship networks, we can hope to better understand the structure of student friendship networks, since we will be able to use evidence from many different networks, instead of from a single example. At the same time, we will try to better understand the different metrics of network structure and how they relate to each other."
   ]
  },
  {
   "cell_type": "markdown",
   "id": "a75e6de2",
   "metadata": {},
   "source": [
    "In part 1, we had to go through a couple of steps to read a file in and open up a single network. These steps would make a great function, since we will need to go through them each time we want to open 84 different files.\n",
    "\n",
    "Take a look at this function, which you will use in a moment:"
   ]
  },
  {
   "cell_type": "code",
   "execution_count": null,
   "id": "c981e218",
   "metadata": {},
   "outputs": [],
   "source": [
    "def read_add_health_network(network_id):\n",
    "    \"\"\"\n",
    "    network_id : integer from 1 to 84\n",
    "    \n",
    "    read in the Add Health network corresponding to the given id number and\n",
    "    return it as an undirected networkx object\n",
    "    \"\"\"\n",
    "\n",
    "    # this file was downloaded from\n",
    "    # http://moreno.ss.uci.edu/data.html#adhealth\n",
    "    edge_file = os.path.join(\"data\", \"comm\" + str(network_id) + \".dat\")\n",
    "    with open(edge_file, 'r') as f:\n",
    "        edge_lines = f.readlines()\n",
    "        \n",
    "    network = nx.parse_edgelist(edge_lines, nodetype=int, data=[('activity_level', float)])\n",
    "    \n",
    "    # note that we call the to_undirected method to ensure we get an undirected network\n",
    "    return(network.to_undirected())"
   ]
  },
  {
   "cell_type": "markdown",
   "id": "c02e75e4",
   "metadata": {},
   "source": [
    "Now let's use this function to actually read in all 84 of the Add Health school networks:\n",
    "\n",
    "*This takes a couple of secs*"
   ]
  },
  {
   "cell_type": "code",
   "execution_count": null,
   "id": "8bb0e11e",
   "metadata": {},
   "outputs": [],
   "source": [
    "number_add_health_networks = 84\n",
    "add_health_networks = [read_add_health_network(x) for x in range(1,number_add_health_networks+1)]"
   ]
  },
  {
   "cell_type": "markdown",
   "id": "9d793b61",
   "metadata": {},
   "source": [
    "Done! Look at the contents of `add_health_networks` to better understand what it is."
   ]
  },
  {
   "cell_type": "markdown",
   "id": "d0ded6b7",
   "metadata": {},
   "source": [
    "### Calculating network statistics for all of the Add Health communities"
   ]
  },
  {
   "cell_type": "markdown",
   "id": "8837f8ac",
   "metadata": {},
   "source": [
    "Let's start by making a dataset that has the number of nodes in each of the 84 Add Health community networks."
   ]
  },
  {
   "cell_type": "code",
   "execution_count": null,
   "id": "109cd79e",
   "metadata": {},
   "outputs": [],
   "source": [
    "num_nodes = make_array()\n",
    "\n",
    "for g in add_health_networks:\n",
    "    num_nodes = np.append(num_nodes, g.number_of_nodes())\n",
    "\n",
    "add_health_firsttry = Table().with_columns([\n",
    "     'id', np.arange(1, number_add_health_networks+1),\n",
    "     'num_nodes', num_nodes,\n",
    "    ])\n",
    "\n",
    "add_health_firsttry"
   ]
  },
  {
   "cell_type": "markdown",
   "id": "b2c5b293",
   "metadata": {},
   "source": [
    "## Question 7:\n",
    "\n",
    "Now, following the pattern above, make a more complete dataset called `add_health` which has columns\n",
    "\n",
    "* `id`\n",
    "* `num_nodes`\n",
    "* `num_edges`\n",
    "* `avg_degree`\n",
    "* `num_components`"
   ]
  },
  {
   "cell_type": "code",
   "execution_count": null,
   "id": "bae81ce6",
   "metadata": {
    "tags": []
   },
   "outputs": [],
   "source": [
    "num_nodes = ...\n",
    "num_edges = ...\n",
    "...\n",
    "\n",
    "\n",
    "for g in add_health_networks:\n",
    "    num_nodes = np.append(num_nodes, g.number_of_nodes())\n",
    "    num_edges = ...\n",
    "    avg_degree = np.append(avg_degree, ...)\n",
    "    num_components = np.append(num_components, nx.number_connected_components(g))\n",
    "\n",
    "add_health = Table().with_columns([\n",
    "     'id', np.arange(1, number_add_health_networks+1),\n",
    "     'num_nodes', num_nodes,\n",
    "     'num_edges', num_edges,\n",
    "     'avg_degree', avg_degree,\n",
    "     'num_components', num_components,\n",
    "    ])\n",
    "    \n",
    "q7 = add_health.num_rows"
   ]
  },
  {
   "cell_type": "code",
   "execution_count": null,
   "id": "b6043189",
   "metadata": {
    "deletable": false,
    "editable": false
   },
   "outputs": [],
   "source": [
    "grader.check(\"q7\")"
   ]
  },
  {
   "cell_type": "markdown",
   "id": "51c25bc9",
   "metadata": {},
   "source": [
    "Let's take a look at the dataset that we just created:"
   ]
  },
  {
   "cell_type": "code",
   "execution_count": null,
   "id": "c973d97c",
   "metadata": {},
   "outputs": [],
   "source": [
    "add_health"
   ]
  },
  {
   "cell_type": "markdown",
   "id": "ba255372",
   "metadata": {},
   "source": [
    "<!-- BEGIN QUESTION -->\n",
    "\n",
    "## Question 8: \n",
    "\n",
    "Make four histograms that show the distribution of each column (except for `id`)."
   ]
  },
  {
   "cell_type": "code",
   "execution_count": null,
   "id": "c5b59d67",
   "metadata": {
    "tags": []
   },
   "outputs": [],
   "source": [
    "..."
   ]
  },
  {
   "cell_type": "code",
   "execution_count": null,
   "id": "97008c32",
   "metadata": {
    "tags": []
   },
   "outputs": [],
   "source": [
    "..."
   ]
  },
  {
   "cell_type": "code",
   "execution_count": null,
   "id": "dc0b4728",
   "metadata": {
    "tags": []
   },
   "outputs": [],
   "source": [
    "..."
   ]
  },
  {
   "cell_type": "code",
   "execution_count": null,
   "id": "d71a4164",
   "metadata": {
    "tags": []
   },
   "outputs": [],
   "source": [
    "..."
   ]
  },
  {
   "cell_type": "markdown",
   "id": "c461d90a",
   "metadata": {},
   "source": [
    "<!-- END QUESTION -->\n",
    "\n",
    "### Relationship between metrics of network structure"
   ]
  },
  {
   "cell_type": "markdown",
   "id": "9d6af95c",
   "metadata": {},
   "source": [
    "Remember that the goal of these different metrics is to try to find a way to summarize the structure of a network.  It turns out that this is too hard a task to have a single solution: the best way to summarize or describe a network can depend a lot on what you are interested in understanding about the network. For example, one type of summary might tell you about what networks are at high or low risk of quickly spreading an infectious disease and a different type of network metric might tell you about how hierarchical or egalitarian relationships between network members are.\n",
    "\n",
    "It would be very helpful to understand how these different metrics are related to each other. For example, if two metrics always increase or decrease together, that might tell us that they are capturing the same underlying aspect of network structure. On the other hand, if two metrics are totally unrelated to one another, then that might tell us that each one captures an independent aspect of network structure.\n",
    "\n",
    "One way to investigate this topic would be to use math to try to derive results that relate the different network metrics to each other. That's a great thing to do (and there has been a lot of work on this topic). But since we're learning how to analyze data, we're going to take a different approach: we're going to use our empirical dataset to see how these metrics behave in a set of real-world friendship networks."
   ]
  },
  {
   "cell_type": "markdown",
   "id": "89b441a7",
   "metadata": {},
   "source": [
    "<!-- BEGIN QUESTION -->\n",
    "\n",
    "## Question 9:\n",
    "\n",
    "Make a scatterplot that investigates the relationship between each of the four pairs of metrics in the previous question. For each scatter plot, briefly comment on whether it suggests that your prediction is correct or not. (We're not doing any formal tests here, so this evidence will only be suggestive.)"
   ]
  },
  {
   "cell_type": "markdown",
   "id": "6c7ac47f",
   "metadata": {},
   "source": [
    "_Type your answer here, replacing this text._"
   ]
  },
  {
   "cell_type": "code",
   "execution_count": null,
   "id": "6b0b743e",
   "metadata": {
    "tags": []
   },
   "outputs": [],
   "source": [
    "..."
   ]
  },
  {
   "cell_type": "code",
   "execution_count": null,
   "id": "ed4da42c",
   "metadata": {
    "tags": []
   },
   "outputs": [],
   "source": [
    "..."
   ]
  },
  {
   "cell_type": "code",
   "execution_count": null,
   "id": "b9468ce1",
   "metadata": {
    "tags": []
   },
   "outputs": [],
   "source": [
    "..."
   ]
  },
  {
   "cell_type": "code",
   "execution_count": null,
   "id": "dd00392f",
   "metadata": {
    "tags": []
   },
   "outputs": [],
   "source": [
    "..."
   ]
  },
  {
   "cell_type": "markdown",
   "id": "f2a2fe14",
   "metadata": {},
   "source": [
    "<!-- END QUESTION -->\n",
    "\n"
   ]
  },
  {
   "cell_type": "markdown",
   "id": "2f190673",
   "metadata": {
    "deletable": false,
    "editable": false
   },
   "source": [
    "---\n",
    "\n",
    "To double-check your work, the cell below will rerun all of the autograder tests."
   ]
  },
  {
   "cell_type": "code",
   "execution_count": null,
   "id": "f0e7bc66",
   "metadata": {
    "deletable": false,
    "editable": false
   },
   "outputs": [],
   "source": [
    "grader.check_all()"
   ]
  },
  {
   "cell_type": "markdown",
   "id": "44de9005",
   "metadata": {
    "deletable": false,
    "editable": false
   },
   "source": [
    "## Submission\n",
    "\n",
    "Make sure you have run all cells in your notebook in order before running the cell below, so that all images/graphs appear in the output. The cell below will generate a zip file for you to submit. **Please save before exporting!**\n",
    "\n",
    "Please upload the .zip file to Gradescope by Tuesday at 2pm."
   ]
  },
  {
   "cell_type": "code",
   "execution_count": null,
   "id": "a8bc9894",
   "metadata": {
    "deletable": false,
    "editable": false
   },
   "outputs": [],
   "source": [
    "# Save your notebook first, then run this cell to export your submission.\n",
    "grader.export(run_tests=True)"
   ]
  },
  {
   "cell_type": "markdown",
   "id": "89033cf2",
   "metadata": {},
   "source": [
    " "
   ]
  }
 ],
 "metadata": {
  "kernelspec": {
   "display_name": "Python 3 (ipykernel)",
   "language": "python",
   "name": "python3"
  },
  "language_info": {
   "codemirror_mode": {
    "name": "ipython",
    "version": 3
   },
   "file_extension": ".py",
   "mimetype": "text/x-python",
   "name": "python",
   "nbconvert_exporter": "python",
   "pygments_lexer": "ipython3",
   "version": "3.9.12"
  },
  "otter": {
   "OK_FORMAT": true,
   "tests": {
    "q2": {
     "name": "q2",
     "points": 1,
     "suites": [
      {
       "cases": [
        {
         "code": ">>> np.isclose(q2_edges, 220.0)\nTrue",
         "hidden": false,
         "locked": false
        },
        {
         "code": ">>> np.isclose(q2_nodes, 69.0)\nTrue",
         "hidden": false,
         "locked": false
        }
       ],
       "scored": true,
       "setup": "",
       "teardown": "",
       "type": "doctest"
      }
     ]
    },
    "q5": {
     "name": "q5",
     "points": 1,
     "suites": [
      {
       "cases": [
        {
         "code": ">>> round(g_degrees.num_rows,1) == 69.0\nTrue",
         "hidden": false,
         "locked": false
        },
        {
         "code": ">>> round(g_degrees.num_columns,1) == 2.0\nTrue",
         "hidden": false,
         "locked": false
        }
       ],
       "scored": true,
       "setup": "",
       "teardown": "",
       "type": "doctest"
      }
     ]
    },
    "q6": {
     "name": "q6",
     "points": 1,
     "suites": [
      {
       "cases": [
        {
         "code": ">>> np.isclose(q6, 1.25)\nTrue",
         "hidden": false,
         "locked": false
        }
       ],
       "scored": true,
       "setup": "",
       "teardown": "",
       "type": "doctest"
      }
     ]
    },
    "q7": {
     "name": "q7",
     "points": 1,
     "suites": [
      {
       "cases": [
        {
         "code": ">>> np.isclose(q7, 84.0)\nTrue",
         "hidden": false,
         "locked": false
        }
       ],
       "scored": true,
       "setup": "",
       "teardown": "",
       "type": "doctest"
      }
     ]
    }
   }
  }
 },
 "nbformat": 4,
 "nbformat_minor": 5
}
