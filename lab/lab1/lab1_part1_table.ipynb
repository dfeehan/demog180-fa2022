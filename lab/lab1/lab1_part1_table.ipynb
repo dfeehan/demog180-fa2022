{
 "cells": [
  {
   "cell_type": "code",
   "execution_count": null,
   "metadata": {},
   "outputs": [],
   "source": [
    "# We need to import some modules before we start\n",
    "from datascience import Table\n",
    "\n",
    "import matplotlib # the lines involving matplotlib allow for plotting\n",
    "matplotlib.use('Agg')\n",
    "%matplotlib inline\n",
    "import matplotlib.pyplot as plt\n",
    "import numpy as np\n",
    "plt.style.use('fivethirtyeight') # 538 is a style in matplotlib, \n",
    "                                 # see https://tonysyu.github.io/raw_content/matplotlib-style-gallery/gallery.html for some other styles\n",
    "\n"
   ]
  },
  {
   "cell_type": "markdown",
   "metadata": {},
   "source": [
    "### Demography 180 - Social Networks\n",
    "### Lab 1 -- part 1"
   ]
  },
  {
   "cell_type": "markdown",
   "metadata": {},
   "source": [
    "Welcome to the first lab for Demography 180 - Social Networks!\n",
    "\n",
    "The first part of lab 1 is designed as a reference to help you learn about `table` in the datascience module. If you don't have much experience with using this module, it's a good reference for practice and re-visit when you work on part2 and hw02.\n",
    "\n",
    "You don't have to submit part 1. But remember to submit lab 1 part 2 by the deadline!"
   ]
  },
  {
   "cell_type": "markdown",
   "metadata": {},
   "source": [
    "# 0 The datascience module\n",
    "\n",
    "We usually analyze data in the format of tables. The `table` in datascience module provides a very helpful tool for this lab and the future works we do in this class. This section aims to introduce you to some basic elements and syntax for using `table`."
   ]
  },
  {
   "cell_type": "markdown",
   "metadata": {},
   "source": [
    "## 0.1 Creating the tables\n",
    "A Table is a sequence of labeled columns of data.\n",
    "\n",
    "A Table can be constructed from scratch by extending an empty table with columns."
   ]
  },
  {
   "cell_type": "code",
   "execution_count": null,
   "metadata": {},
   "outputs": [],
   "source": [
    "# Construct a table from strach and assign it to a name 't'\n",
    "t = Table().with_columns([\n",
    "    'letter', ['a','b','c','z'], # contents in quotes '' are string texts. Words without quotes refer to variable names or function names.\n",
    "    'count', [9, 3, 3, 1],\n",
    "    'points', [1, 2, 2, 10],\n",
    "])"
   ]
  },
  {
   "cell_type": "code",
   "execution_count": null,
   "metadata": {},
   "outputs": [],
   "source": [
    "# Let's see what you constructed\n",
    "print(t)"
   ]
  },
  {
   "cell_type": "markdown",
   "metadata": {},
   "source": [
    "More usually, we load the dataset that we want to analyze via a path to the file."
   ]
  },
  {
   "cell_type": "code",
   "execution_count": null,
   "metadata": {},
   "outputs": [],
   "source": [
    "Table.read_table('ucb_fa2022_personal_networks_clean.csv') # pass in the location of the data and its file name"
   ]
  },
  {
   "cell_type": "markdown",
   "metadata": {},
   "source": [
    "Let's work with the first 10 rows of this data as an example to learn basic syntax."
   ]
  },
  {
   "cell_type": "code",
   "execution_count": null,
   "metadata": {},
   "outputs": [],
   "source": [
    "# Assign this table to a name called survey\n",
    "### path needs to be updated for this year's data\n",
    "survey = Table.read_table('ucb_fa2022_personal_networks_clean.csv')\n",
    "\n",
    "# Then choose the first 10 rows as an example\n",
    "example = survey.take[:10]\n",
    "\n",
    "# Take a look at this dataset called example\n",
    "example"
   ]
  },
  {
   "cell_type": "markdown",
   "metadata": {},
   "source": [
    "## 0.2 Accessing values tables\n"
   ]
  },
  {
   "cell_type": "markdown",
   "metadata": {},
   "source": [
    "To access values of columns in the table, use `column()`, which takes a column label or index and returns an array. Alternatively, `columns()` returns a list of columns (arrays).\n",
    "\n",
    "Let's use `example` data."
   ]
  },
  {
   "cell_type": "code",
   "execution_count": null,
   "metadata": {},
   "outputs": [],
   "source": [
    "example.column('respondent_gender') # This line returns the description of the column called \"respondent_gender\". You use quotes because you are refering to a name"
   ]
  },
  {
   "cell_type": "markdown",
   "metadata": {},
   "source": [
    "You can also refer to the \"respondent_gender\" column by index.\n",
    "** Indexing starts from 0. The \"interview_number\" column, which is the 1st column, is column(0)."
   ]
  },
  {
   "cell_type": "code",
   "execution_count": null,
   "metadata": {},
   "outputs": [],
   "source": [
    "example.column(3) # indexing takes numbers, don't put numbers in quotes!"
   ]
  },
  {
   "cell_type": "code",
   "execution_count": null,
   "metadata": {},
   "outputs": [],
   "source": [
    "example.column(0) "
   ]
  },
  {
   "cell_type": "code",
   "execution_count": null,
   "metadata": {},
   "outputs": [],
   "source": [
    "example.column(1)"
   ]
  },
  {
   "cell_type": "markdown",
   "metadata": {},
   "source": [
    "You can use square brackets to do the same thing as the .column function as a short hand."
   ]
  },
  {
   "cell_type": "code",
   "execution_count": null,
   "metadata": {},
   "outputs": [],
   "source": [
    "example['interview_number']"
   ]
  },
  {
   "cell_type": "code",
   "execution_count": null,
   "metadata": {},
   "outputs": [],
   "source": [
    "example[0]"
   ]
  },
  {
   "cell_type": "markdown",
   "metadata": {},
   "source": [
    "To access values by row, `row()` returns a row by index. You can use `row('name')` or `row[index number]` to refer to the row you want to access.\n",
    "\n",
    "Alternatively, `rows()` returns a list-like **Rows** object that contains tuple like **Row** objects. You can further point to the elements in this list."
   ]
  },
  {
   "cell_type": "code",
   "execution_count": null,
   "metadata": {},
   "outputs": [],
   "source": [
    "example.rows[0]"
   ]
  },
  {
   "cell_type": "code",
   "execution_count": null,
   "metadata": {},
   "outputs": [],
   "source": [
    "example.row(0)"
   ]
  },
  {
   "cell_type": "code",
   "execution_count": null,
   "metadata": {},
   "outputs": [],
   "source": [
    "first = example.rows[0]\n",
    "first[0] # this will show the first element in the first row of example, which is example.rows[0]"
   ]
  },
  {
   "cell_type": "markdown",
   "metadata": {},
   "source": [
    "You can get the number of rows:"
   ]
  },
  {
   "cell_type": "code",
   "execution_count": null,
   "metadata": {},
   "outputs": [],
   "source": [
    "example.num_rows"
   ]
  },
  {
   "cell_type": "markdown",
   "metadata": {},
   "source": [
    "## 0.3 Manipulating data"
   ]
  },
  {
   "cell_type": "markdown",
   "metadata": {},
   "source": [
    "Adding a column:"
   ]
  },
  {
   "cell_type": "code",
   "execution_count": null,
   "metadata": {},
   "outputs": [],
   "source": [
    "example = example.with_column('interviewer_id', [1,1,1,2,2,2,3,3,3,4]) # here we add a column that counts the interviewers\n",
    "                                                             # You will see this column on the right of the table (scroll to the right)"
   ]
  },
  {
   "cell_type": "code",
   "execution_count": null,
   "metadata": {},
   "outputs": [],
   "source": [
    "# NOTE that .with_column returns a new table without modifying the original one. The table example is still the same if we don't reassign it.\n",
    "example"
   ]
  },
  {
   "cell_type": "markdown",
   "metadata": {},
   "source": [
    "Let's reduce the table to only contain the information about the respondents for a simpler illustration.\n",
    "\n",
    "You select columns with `select()`."
   ]
  },
  {
   "cell_type": "code",
   "execution_count": null,
   "metadata": {},
   "outputs": [],
   "source": [
    "example.select(['interview_number','respondent_gender','respondent_age','respondent_class',\n",
    "               'respondent_home'])"
   ]
  },
  {
   "cell_type": "code",
   "execution_count": null,
   "metadata": {},
   "outputs": [],
   "source": [
    "# Let's assign this as a new dataset\n",
    "example2 = example.select(['interview_number','respondent_gender','respondent_age','respondent_class',\n",
    "               'respondent_home'])"
   ]
  },
  {
   "cell_type": "markdown",
   "metadata": {},
   "source": [
    "You can rename columns with `relabeled()`:"
   ]
  },
  {
   "cell_type": "code",
   "execution_count": null,
   "metadata": {},
   "outputs": [],
   "source": [
    "example2"
   ]
  },
  {
   "cell_type": "code",
   "execution_count": null,
   "metadata": {},
   "outputs": [],
   "source": [
    "example2.relabeled('respondent_home', 'respondent_residency')"
   ]
  },
  {
   "cell_type": "code",
   "execution_count": null,
   "metadata": {},
   "outputs": [],
   "source": [
    "# Like .with_column(), renaming doens't change the original example1\n",
    "example2"
   ]
  },
  {
   "cell_type": "markdown",
   "metadata": {},
   "source": [
    "You can selecting rows by index with `take()` and conditionally with `where()`:"
   ]
  },
  {
   "cell_type": "code",
   "execution_count": null,
   "metadata": {},
   "outputs": [],
   "source": [
    "example2.take(2) # returns the 3RD row"
   ]
  },
  {
   "cell_type": "code",
   "execution_count": null,
   "metadata": {},
   "outputs": [],
   "source": [
    "example2.where(example2.column('respondent_gender') == 'Female')"
   ]
  },
  {
   "cell_type": "code",
   "execution_count": null,
   "metadata": {},
   "outputs": [],
   "source": [
    "example2.where('respondent_gender', 'Female') # returns the rows where the respondent_gender is \"Female\""
   ]
  },
  {
   "cell_type": "code",
   "execution_count": null,
   "metadata": {},
   "outputs": [],
   "source": [
    "example2.where(example2['respondent_age'] == 20) # example2['respondent_age'] refers to the values in column 'count', you could only compare values to values\n",
    "                        # this whole function returns the rows where respondent_age is equal to 20\n",
    "                        #see below to look at what the inner expression returns\n",
    "                        #PS this is called a \"boolean mask\""
   ]
  },
  {
   "cell_type": "code",
   "execution_count": null,
   "metadata": {},
   "outputs": [],
   "source": [
    "# Let's see what example2['respondent_age'] < 20 returns\n",
    "example2['respondent_age'] == 20 # the results of comparison are an array of booleans (trues or falses)"
   ]
  },
  {
   "cell_type": "markdown",
   "metadata": {},
   "source": [
    "Further operation on table data with `sort()`, `group()`, and `pivot()`."
   ]
  },
  {
   "cell_type": "code",
   "execution_count": null,
   "metadata": {},
   "outputs": [],
   "source": [
    "example2.sort('respondent_age') # this function sorts the table based on the values in 'respondent_age' column"
   ]
  },
  {
   "cell_type": "code",
   "execution_count": null,
   "metadata": {},
   "outputs": [],
   "source": [
    "example2.sort('respondent_gender', descending = True) # You can also sort the first letters of words from z to a."
   ]
  },
  {
   "cell_type": "code",
   "execution_count": null,
   "metadata": {},
   "outputs": [],
   "source": [
    "# You may pass a reducing function into the collect argument\n",
    "# Note the renaming of the points column because of the collect argument\n",
    "\n",
    "example2.select(['respondent_home','respondent_age']).group('respondent_home', collect = min) # this line selects the two columns 'respondent_home' and 'respondent_age',\n",
    "                                                           # and then groups these row based on 'respondent_home'\n",
    "                                                           # and report the smallest number of the 'respondent_age' in each category."
   ]
  },
  {
   "cell_type": "code",
   "execution_count": null,
   "metadata": {},
   "outputs": [],
   "source": [
    "# You can use the 'pivot' function to do some tabulations.\n",
    "example2.pivot('respondent_home','respondent_gender')"
   ]
  },
  {
   "cell_type": "code",
   "execution_count": null,
   "metadata": {},
   "outputs": [],
   "source": [
    "# We can take a pivot look at the whole dataset\n",
    "survey.pivot('respondent_home', 'respondent_gender')"
   ]
  },
  {
   "cell_type": "code",
   "execution_count": null,
   "metadata": {},
   "outputs": [],
   "source": []
  }
 ],
 "metadata": {
  "kernelspec": {
   "display_name": "Python 3 (ipykernel)",
   "language": "python",
   "name": "python3"
  },
  "language_info": {
   "codemirror_mode": {
    "name": "ipython",
    "version": 3
   },
   "file_extension": ".py",
   "mimetype": "text/x-python",
   "name": "python",
   "nbconvert_exporter": "python",
   "pygments_lexer": "ipython3",
   "version": "3.9.12"
  }
 },
 "nbformat": 4,
 "nbformat_minor": 2
}
