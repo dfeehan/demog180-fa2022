{
 "cells": [
  {
   "cell_type": "code",
   "execution_count": 1,
   "metadata": {
    "deletable": false,
    "editable": false
   },
   "outputs": [],
   "source": [
    "# Initialize Otter\n",
    "import otter\n",
    "grader = otter.Notebook(\"01_ucb_personal_networks.ipynb\")"
   ]
  },
  {
   "cell_type": "code",
   "execution_count": 2,
   "metadata": {},
   "outputs": [],
   "source": [
    "from datascience import *\n",
    "\n",
    "import matplotlib\n",
    "matplotlib.use('Agg')\n",
    "%matplotlib inline\n",
    "import matplotlib.pyplot as plt\n",
    "import numpy as np\n",
    "import pandas as pd\n",
    "plt.style.use('fivethirtyeight')"
   ]
  },
  {
   "cell_type": "markdown",
   "metadata": {},
   "source": [
    "# Lecture: Personal networks of Berkeley students"
   ]
  },
  {
   "cell_type": "markdown",
   "metadata": {},
   "source": [
    "### Load the survey responses"
   ]
  },
  {
   "cell_type": "code",
   "execution_count": 4,
   "metadata": {},
   "outputs": [],
   "source": [
    "url = \"ucb_fa2022_personal_networks_clean.csv\"\n",
    "\n",
    "survey = Table.read_table(url)"
   ]
  },
  {
   "cell_type": "markdown",
   "metadata": {},
   "source": [
    "Print the first few rows of the dataset to get a sense for how it is structured."
   ]
  },
  {
   "cell_type": "code",
   "execution_count": 5,
   "metadata": {},
   "outputs": [
    {
     "data": {
      "text/html": [
       "<table border=\"1\" class=\"dataframe\">\n",
       "    <thead>\n",
       "        <tr>\n",
       "            <th>interview_number</th> <th>interview_date</th> <th>interview_time</th> <th>respondent_gender</th> <th>respondent_age</th> <th>respondent_class</th> <th>respondent_home</th> <th>number_alters</th> <th>alter1_gender</th> <th>alter1_age</th> <th>alter1_class</th> <th>alter1_home</th> <th>alter1_howclose</th> <th>alter1_howoften</th> <th>alter2_gender</th> <th>alter2_age</th> <th>alter2_class</th> <th>alter2_home</th> <th>alter2_howclose</th> <th>alter2_howoften</th> <th>alter3_gender</th> <th>alter3_age</th> <th>alter3_class</th> <th>alter3_home</th> <th>alter3_howclose</th> <th>alter3_howoften</th> <th>alter4_gender</th> <th>alter4_age</th> <th>alter4_class</th> <th>alter4_home</th> <th>alter4_howclose</th> <th>alter4_howoften</th> <th>alter5_gender</th> <th>alter5_age</th> <th>alter5_class</th> <th>alter5_home</th> <th>alter5_howclose</th> <th>alter5_howoften</th>\n",
       "        </tr>\n",
       "    </thead>\n",
       "    <tbody>\n",
       "        <tr>\n",
       "            <td>1               </td> <td>2022-08-30    </td> <td>14:54:00      </td> <td>Female           </td> <td>21            </td> <td>Junior          </td> <td>Rest of World     </td> <td>5            </td> <td>Female       </td> <td>20        </td> <td>Junior      </td> <td>Rest of World        </td> <td>Friend         </td> <td>More than once a week</td> <td>Female       </td> <td>20        </td> <td>Junior      </td> <td>Rest of World     </td> <td>Close friend   </td> <td>Once a week          </td> <td>Male         </td> <td>22        </td> <td>Sophomore   </td> <td>Rest of World        </td> <td>Close friend   </td> <td>More than once a week</td> <td>Male         </td> <td>22        </td> <td>Sophomore   </td> <td>Rest of World        </td> <td>Close friend   </td> <td>More than once a week</td> <td>Female       </td> <td>20        </td> <td>Sophomore   </td> <td>Rest of World</td> <td>Close friend   </td> <td>More than once a week</td>\n",
       "        </tr>\n",
       "        <tr>\n",
       "            <td>2               </td> <td>2022-08-30    </td> <td>15:46:00      </td> <td>Female           </td> <td>21            </td> <td>Senior          </td> <td>Bay Area          </td> <td>5            </td> <td>Male         </td> <td>25        </td> <td>Other       </td> <td>Bay Area             </td> <td>Close friend   </td> <td>More than once a week</td> <td>Female       </td> <td>51        </td> <td>Other       </td> <td>Bay Area          </td> <td>Close friend   </td> <td>More than once a week</td> <td>Female       </td> <td>22        </td> <td>Senior      </td> <td>LA Area              </td> <td>Close friend   </td> <td>More than once a week</td> <td>Male         </td> <td>17        </td> <td>Other       </td> <td>Bay Area             </td> <td>Close friend   </td> <td>More than once a week</td> <td>Female       </td> <td>21        </td> <td>Junior      </td> <td>Bay Area     </td> <td>Friend         </td> <td>More than once a week</td>\n",
       "        </tr>\n",
       "        <tr>\n",
       "            <td>1               </td> <td>2022-08-30    </td> <td>15:00:00      </td> <td>Other            </td> <td>21            </td> <td>Senior          </td> <td>LA Area           </td> <td>5            </td> <td>Female       </td> <td>21        </td> <td>Senior      </td> <td>Rest of United States</td> <td>Close friend   </td> <td>More than once a week</td> <td>Male         </td> <td>50        </td> <td>Other       </td> <td>Rest of World     </td> <td>Close friend   </td> <td>Once a week          </td> <td>Female       </td> <td>16        </td> <td>Other       </td> <td>Rest of United States</td> <td>Close friend   </td> <td>More than once a week</td> <td>Female       </td> <td>21        </td> <td>Junior      </td> <td>Rest of United States</td> <td>Friend         </td> <td>Once a week          </td> <td>Female       </td> <td>21        </td> <td>Senior      </td> <td>LA Area      </td> <td>Close friend   </td> <td>More than once a week</td>\n",
       "        </tr>\n",
       "        <tr>\n",
       "            <td>1               </td> <td>2022-08-30    </td> <td>16:06:00      </td> <td>Female           </td> <td>20            </td> <td>Junior          </td> <td>Rest of California</td> <td>3            </td> <td>Female       </td> <td>25        </td> <td>Other       </td> <td>Rest of California   </td> <td>Close friend   </td> <td>More than once a week</td> <td>Female       </td> <td>52        </td> <td>Other       </td> <td>Rest of California</td> <td>Close friend   </td> <td>More than once a week</td> <td>Female       </td> <td>20        </td> <td>Junior      </td> <td>Rest of California   </td> <td>Friend         </td> <td>Once a month         </td> <td>nan          </td> <td>nan       </td> <td>nan         </td> <td>nan                  </td> <td>nan            </td> <td>nan                  </td> <td>nan          </td> <td>nan       </td> <td>nan         </td> <td>nan          </td> <td>nan            </td> <td>nan                  </td>\n",
       "        </tr>\n",
       "        <tr>\n",
       "            <td>2               </td> <td>2022-08-30    </td> <td>16:30:00      </td> <td>Male             </td> <td>20            </td> <td>Junior          </td> <td>Bay Area          </td> <td>5            </td> <td>Female       </td> <td>21        </td> <td>Junior      </td> <td>Rest of California   </td> <td>Close friend   </td> <td>More than once a week</td> <td>Female       </td> <td>20        </td> <td>Junior      </td> <td>Bay Area          </td> <td>Friend         </td> <td>Rarely               </td> <td>Female       </td> <td>19        </td> <td>Junior      </td> <td>Rest of United States</td> <td>Friend         </td> <td>Once a week          </td> <td>Female       </td> <td>20        </td> <td>Junior      </td> <td>Rest of United States</td> <td>Friend         </td> <td>Once a month         </td> <td>Male         </td> <td>20        </td> <td>Junior      </td> <td>Bay Area     </td> <td>Acquaintance   </td> <td>Once a week          </td>\n",
       "        </tr>\n",
       "        <tr>\n",
       "            <td>3               </td> <td>2022-08-30    </td> <td>16:28:00      </td> <td>Female           </td> <td>22            </td> <td>Senior          </td> <td>Bay Area          </td> <td>5            </td> <td>Female       </td> <td>22        </td> <td>Other       </td> <td>Bay Area             </td> <td>Close friend   </td> <td>More than once a week</td> <td>Female       </td> <td>21        </td> <td>Other       </td> <td>LA Area           </td> <td>Close friend   </td> <td>More than once a week</td> <td>Male         </td> <td>20        </td> <td>Junior      </td> <td>Bay Area             </td> <td>Close friend   </td> <td>More than once a week</td> <td>Female       </td> <td>21        </td> <td>Senior      </td> <td>Bay Area             </td> <td>Close friend   </td> <td>More than once a week</td> <td>Female       </td> <td>20        </td> <td>Junior      </td> <td>Bay Area     </td> <td>Close friend   </td> <td>More than once a week</td>\n",
       "        </tr>\n",
       "    </tbody>\n",
       "</table>\n",
       "<p>... (155 rows omitted)</p>"
      ],
      "text/plain": [
       "<IPython.core.display.HTML object>"
      ]
     },
     "metadata": {},
     "output_type": "display_data"
    }
   ],
   "source": [
    "# show the first few rows of the dataset\n",
    "survey.show(6)"
   ]
  },
  {
   "cell_type": "markdown",
   "metadata": {},
   "source": [
    "How many responses are there?"
   ]
  },
  {
   "cell_type": "code",
   "execution_count": 6,
   "metadata": {},
   "outputs": [
    {
     "data": {
      "text/plain": [
       "161"
      ]
     },
     "execution_count": 6,
     "metadata": {},
     "output_type": "execute_result"
    }
   ],
   "source": [
    "num_responses = survey.num_rows\n",
    "num_responses"
   ]
  },
  {
   "cell_type": "markdown",
   "metadata": {},
   "source": [
    "### Who responded to the survey?"
   ]
  },
  {
   "cell_type": "markdown",
   "metadata": {},
   "source": [
    "#### Respondent age"
   ]
  },
  {
   "cell_type": "markdown",
   "metadata": {},
   "source": [
    "**Question** What do you expect will be the age range of people who responded to the survey? Why?"
   ]
  },
  {
   "cell_type": "markdown",
   "metadata": {},
   "source": [
    "[ANS: It seems likely that people will have interviewed others who are similar to them. So we'd expect the age range of survey respondents to be similar to the age range of people in the class]"
   ]
  },
  {
   "cell_type": "markdown",
   "metadata": {},
   "source": [
    "Now let's look at the data:"
   ]
  },
  {
   "cell_type": "markdown",
   "metadata": {},
   "source": [
    "Highest and lowest ages of survey respondents:"
   ]
  },
  {
   "cell_type": "code",
   "execution_count": 7,
   "metadata": {},
   "outputs": [
    {
     "data": {
      "text/plain": [
       "34"
      ]
     },
     "execution_count": 7,
     "metadata": {},
     "output_type": "execute_result"
    }
   ],
   "source": [
    "# highest age\n",
    "survey.column('respondent_age').max()"
   ]
  },
  {
   "cell_type": "code",
   "execution_count": 8,
   "metadata": {},
   "outputs": [
    {
     "data": {
      "text/plain": [
       "17"
      ]
     },
     "execution_count": 8,
     "metadata": {},
     "output_type": "execute_result"
    }
   ],
   "source": [
    "# lowest age\n",
    "survey.column('respondent_age').min()"
   ]
  },
  {
   "cell_type": "markdown",
   "metadata": {},
   "source": [
    "Average age of survey respondents:"
   ]
  },
  {
   "cell_type": "code",
   "execution_count": 9,
   "metadata": {},
   "outputs": [
    {
     "data": {
      "text/plain": [
       "20.93167701863354"
      ]
     },
     "execution_count": 9,
     "metadata": {},
     "output_type": "execute_result"
    }
   ],
   "source": [
    "np.mean(survey.column('respondent_age'))"
   ]
  },
  {
   "cell_type": "markdown",
   "metadata": {},
   "source": [
    "Visualize the age distribution of respondents using a histogram:"
   ]
  },
  {
   "cell_type": "code",
   "execution_count": 10,
   "metadata": {},
   "outputs": [
    {
     "data": {
      "image/png": "[encoded data removed]",
      "text/plain": [
       "<Figure size 432x288 with 1 Axes>"
      ]
     },
     "metadata": {},
     "output_type": "display_data"
    }
   ],
   "source": [
    "survey.select('respondent_age').hist()"
   ]
  },
  {
   "cell_type": "markdown",
   "metadata": {},
   "source": [
    "#### Respondent gender"
   ]
  },
  {
   "cell_type": "markdown",
   "metadata": {},
   "source": [
    "Look at the gender distribution"
   ]
  },
  {
   "cell_type": "code",
   "execution_count": 11,
   "metadata": {},
   "outputs": [
    {
     "data": {
      "text/html": [
       "<table border=\"1\" class=\"dataframe\">\n",
       "    <thead>\n",
       "        <tr>\n",
       "            <th>respondent_gender</th> <th>count</th>\n",
       "        </tr>\n",
       "    </thead>\n",
       "    <tbody>\n",
       "        <tr>\n",
       "            <td>Female           </td> <td>95   </td>\n",
       "        </tr>\n",
       "        <tr>\n",
       "            <td>Male             </td> <td>65   </td>\n",
       "        </tr>\n",
       "        <tr>\n",
       "            <td>Other            </td> <td>1    </td>\n",
       "        </tr>\n",
       "    </tbody>\n",
       "</table>"
      ],
      "text/plain": [
       "respondent_gender | count\n",
       "Female            | 95\n",
       "Male              | 65\n",
       "Other             | 1"
      ]
     },
     "execution_count": 11,
     "metadata": {},
     "output_type": "execute_result"
    }
   ],
   "source": [
    "# make a table showing counts of respondents by gender\n",
    "survey.group('respondent_gender')"
   ]
  },
  {
   "cell_type": "code",
   "execution_count": 12,
   "metadata": {},
   "outputs": [
    {
     "data": {
      "image/png": "[encoded data removed]",
      "text/plain": [
       "<Figure size 432x288 with 1 Axes>"
      ]
     },
     "metadata": {},
     "output_type": "display_data"
    }
   ],
   "source": [
    "# make a horizontal bar plot showing the same information\n",
    "survey.group('respondent_gender').barh('respondent_gender')"
   ]
  },
  {
   "cell_type": "markdown",
   "metadata": {},
   "source": [
    "#### Respondent class year"
   ]
  },
  {
   "cell_type": "markdown",
   "metadata": {},
   "source": [
    "Look at the class year"
   ]
  },
  {
   "cell_type": "code",
   "execution_count": 13,
   "metadata": {},
   "outputs": [
    {
     "data": {
      "text/html": [
       "<table border=\"1\" class=\"dataframe\">\n",
       "    <thead>\n",
       "        <tr>\n",
       "            <th>respondent_class</th> <th>count</th>\n",
       "        </tr>\n",
       "    </thead>\n",
       "    <tbody>\n",
       "        <tr>\n",
       "            <td>Freshman        </td> <td>6    </td>\n",
       "        </tr>\n",
       "        <tr>\n",
       "            <td>Junior          </td> <td>43   </td>\n",
       "        </tr>\n",
       "        <tr>\n",
       "            <td>Other           </td> <td>7    </td>\n",
       "        </tr>\n",
       "        <tr>\n",
       "            <td>Senior          </td> <td>91   </td>\n",
       "        </tr>\n",
       "        <tr>\n",
       "            <td>Sophomore       </td> <td>14   </td>\n",
       "        </tr>\n",
       "    </tbody>\n",
       "</table>"
      ],
      "text/plain": [
       "respondent_class | count\n",
       "Freshman         | 6\n",
       "Junior           | 43\n",
       "Other            | 7\n",
       "Senior           | 91\n",
       "Sophomore        | 14"
      ]
     },
     "execution_count": 13,
     "metadata": {},
     "output_type": "execute_result"
    }
   ],
   "source": [
    "# make a table\n",
    "survey.group('respondent_class')"
   ]
  },
  {
   "cell_type": "code",
   "execution_count": 14,
   "metadata": {},
   "outputs": [
    {
     "data": {
      "image/png": "[encoded data removed]",
      "text/plain": [
       "<Figure size 432x288 with 1 Axes>"
      ]
     },
     "metadata": {},
     "output_type": "display_data"
    }
   ],
   "source": [
    "# make a horizontal bar plot\n",
    "survey.group('respondent_class').barh('respondent_class')"
   ]
  },
  {
   "cell_type": "markdown",
   "metadata": {},
   "source": [
    "Here's a different way to plot the same data, specifying the order of the bars."
   ]
  },
  {
   "cell_type": "code",
   "execution_count": 15,
   "metadata": {},
   "outputs": [
    {
     "data": {
      "text/plain": [
       "<AxesSubplot:ylabel='respondent_class'>"
      ]
     },
     "execution_count": 15,
     "metadata": {},
     "output_type": "execute_result"
    },
    {
     "data": {
      "image/png": "[encoded data removed]",
      "text/plain": [
       "<Figure size 432x288 with 1 Axes>"
      ]
     },
     "metadata": {},
     "output_type": "display_data"
    }
   ],
   "source": [
    "class_order = ['Freshman', 'Sophomore', 'Junior', 'Senior', 'Other']\n",
    "survey.group('respondent_class').to_df().set_index('respondent_class').loc[class_order].plot.barh()"
   ]
  },
  {
   "cell_type": "code",
   "execution_count": null,
   "metadata": {},
   "outputs": [],
   "source": []
  },
  {
   "cell_type": "markdown",
   "metadata": {},
   "source": [
    "# Core discussion networks of Berkeley students"
   ]
  },
  {
   "cell_type": "markdown",
   "metadata": {},
   "source": [
    "About how many confidants, on average, do Americans have?"
   ]
  },
  {
   "cell_type": "markdown",
   "metadata": {},
   "source": [
    "_Type your answer here, replacing this text._"
   ]
  },
  {
   "cell_type": "markdown",
   "metadata": {},
   "source": [
    "Do you think that Berkeley students will have confidant networks that are the same size? Smaller? Larger?"
   ]
  },
  {
   "cell_type": "markdown",
   "metadata": {},
   "source": [
    "_Type your answer here, replacing this text._"
   ]
  },
  {
   "cell_type": "markdown",
   "metadata": {},
   "source": [
    "OK, let's see!"
   ]
  },
  {
   "cell_type": "code",
   "execution_count": 16,
   "metadata": {},
   "outputs": [
    {
     "data": {
      "text/html": [
       "<table border=\"1\" class=\"dataframe\">\n",
       "    <thead>\n",
       "        <tr>\n",
       "            <th>number_alters</th> <th>count</th>\n",
       "        </tr>\n",
       "    </thead>\n",
       "    <tbody>\n",
       "        <tr>\n",
       "            <td>2            </td> <td>3    </td>\n",
       "        </tr>\n",
       "        <tr>\n",
       "            <td>3            </td> <td>12   </td>\n",
       "        </tr>\n",
       "        <tr>\n",
       "            <td>4            </td> <td>18   </td>\n",
       "        </tr>\n",
       "        <tr>\n",
       "            <td>5            </td> <td>109  </td>\n",
       "        </tr>\n",
       "        <tr>\n",
       "            <td>6+           </td> <td>19   </td>\n",
       "        </tr>\n",
       "    </tbody>\n",
       "</table>"
      ],
      "text/plain": [
       "number_alters | count\n",
       "2             | 3\n",
       "3             | 12\n",
       "4             | 18\n",
       "5             | 109\n",
       "6+            | 19"
      ]
     },
     "execution_count": 16,
     "metadata": {},
     "output_type": "execute_result"
    }
   ],
   "source": [
    "# distribution of number of reported confidants\n",
    "survey.group('number_alters')"
   ]
  },
  {
   "cell_type": "markdown",
   "metadata": {},
   "source": [
    "It can be easier to make sense of this kind of information with a plot:"
   ]
  },
  {
   "cell_type": "code",
   "execution_count": 17,
   "metadata": {},
   "outputs": [
    {
     "name": "stderr",
     "output_type": "stream",
     "text": [
      "/Users/dennis/opt/anaconda3/lib/python3.7/site-packages/datascience/tables.py:3006: UserWarning: FixedFormatter should only be used together with FixedLocator\n",
      "  axis.set_xticklabels(tick_labels, stretch='ultra-condensed')\n"
     ]
    },
    {
     "data": {
      "image/png": "[encoded data removed]",
      "text/plain": [
       "<Figure size 432x288 with 1 Axes>"
      ]
     },
     "metadata": {},
     "output_type": "display_data"
    }
   ],
   "source": [
    "# bar plot showing the distribution of number of reported confidants\n",
    "survey.group('number_alters').bar('number_alters')"
   ]
  },
  {
   "cell_type": "markdown",
   "metadata": {},
   "source": [
    "It looks pretty clear that the average is higher than 3."
   ]
  },
  {
   "cell_type": "code",
   "execution_count": 19,
   "metadata": {},
   "outputs": [],
   "source": [
    "def recode_number_alters(na):\n",
    "    if na in ['0', '1', '2', '3', '4', '5']:\n",
    "        return int(na)\n",
    "    elif na in ['6', '6+']:\n",
    "        return 6"
   ]
  },
  {
   "cell_type": "code",
   "execution_count": 20,
   "metadata": {},
   "outputs": [],
   "source": [
    "# apply the recode function to code 6+ alters to 6\n",
    "survey['number_alters_recoded'] = survey.apply(recode_number_alters, 'number_alters') "
   ]
  },
  {
   "cell_type": "code",
   "execution_count": 21,
   "metadata": {},
   "outputs": [
    {
     "data": {
      "text/plain": [
       "array([5, 5, 5, 3, 5, 5, 5, 3, 6, 2, 3, 3, 4, 4, 4, 3, 4, 5, 4, 4, 5, 6,\n",
       "       5, 4, 3, 5, 5, 5, 5, 5, 5, 5, 5, 5, 5, 5, 5, 5, 5, 5, 5, 6, 5, 5,\n",
       "       3, 5, 6, 6, 3, 5, 5, 5, 5, 5, 5, 5, 6, 6, 5, 5, 4, 3, 5, 5, 6, 5,\n",
       "       5, 5, 5, 6, 6, 5, 5, 4, 5, 5, 5, 6, 6, 5, 5, 5, 5, 5, 5, 5, 6, 5,\n",
       "       5, 5, 5, 5, 6, 4, 5, 5, 5, 5, 5, 5, 5, 5, 4, 5, 5, 5, 5, 5, 4, 3,\n",
       "       5, 5, 3, 5, 4, 5, 5, 5, 5, 5, 5, 5, 4, 5, 6, 6, 5, 5, 5, 6, 5, 5,\n",
       "       4, 6, 5, 5, 4, 5, 5, 6, 5, 5, 5, 5, 2, 3, 2, 5, 5, 5, 4, 4, 5, 5,\n",
       "       5, 5, 5, 5, 5, 5, 5])"
      ]
     },
     "execution_count": 21,
     "metadata": {},
     "output_type": "execute_result"
    }
   ],
   "source": [
    "survey['number_alters_recoded']"
   ]
  },
  {
   "cell_type": "code",
   "execution_count": 22,
   "metadata": {},
   "outputs": [
    {
     "data": {
      "text/html": [
       "<table border=\"1\" class=\"dataframe\">\n",
       "    <thead>\n",
       "        <tr>\n",
       "            <th>number_alters_recoded</th> <th>count</th>\n",
       "        </tr>\n",
       "    </thead>\n",
       "    <tbody>\n",
       "        <tr>\n",
       "            <td>2                    </td> <td>3    </td>\n",
       "        </tr>\n",
       "        <tr>\n",
       "            <td>3                    </td> <td>12   </td>\n",
       "        </tr>\n",
       "        <tr>\n",
       "            <td>4                    </td> <td>18   </td>\n",
       "        </tr>\n",
       "        <tr>\n",
       "            <td>5                    </td> <td>109  </td>\n",
       "        </tr>\n",
       "        <tr>\n",
       "            <td>6                    </td> <td>19   </td>\n",
       "        </tr>\n",
       "    </tbody>\n",
       "</table>"
      ],
      "text/plain": [
       "number_alters_recoded | count\n",
       "2                     | 3\n",
       "3                     | 12\n",
       "4                     | 18\n",
       "5                     | 109\n",
       "6                     | 19"
      ]
     },
     "execution_count": 22,
     "metadata": {},
     "output_type": "execute_result"
    }
   ],
   "source": [
    "# make a table of the recoded values\n",
    "survey.group('number_alters_recoded') "
   ]
  },
  {
   "cell_type": "code",
   "execution_count": 23,
   "metadata": {},
   "outputs": [
    {
     "data": {
      "text/plain": [
       "4.801242236024844"
      ]
     },
     "execution_count": 23,
     "metadata": {},
     "output_type": "execute_result"
    }
   ],
   "source": [
    "# calculate the average\n",
    "np.mean(survey['number_alters_recoded'])"
   ]
  },
  {
   "cell_type": "markdown",
   "metadata": {},
   "source": [
    "Note that this estimate is, if anything, low. Why?"
   ]
  },
  {
   "cell_type": "markdown",
   "metadata": {},
   "source": [
    "_Type your answer here, replacing this text._"
   ]
  },
  {
   "cell_type": "markdown",
   "metadata": {},
   "source": [
    "We won't do this now, but an alternate approach would be to fit some kind of parametric distribution to the data we observe, and to use the inferred mean of that distribution as an estimate.  This would be an interesting extension to pursue."
   ]
  },
  {
   "cell_type": "markdown",
   "metadata": {},
   "source": [
    "### Is this a meaningful difference?"
   ]
  },
  {
   "cell_type": "markdown",
   "metadata": {},
   "source": [
    "We see a difference in the point estimate between the average American discussion network and the network among Berkeley students. But, of course, this difference comes from a sample of Berkeley students. If we talked to a different set of Berkeley students, we could get a different answer. How do we know if what we observe in our sample is different enough from 3 to conclude that the networks of Berkeley students are in fact bigger?"
   ]
  },
  {
   "cell_type": "markdown",
   "metadata": {},
   "source": [
    "We can actually estimate the sampling variation from the data we collected under the assumption that we have a random sample of Berkeley students. \n",
    "\n",
    "(This is a stretch, of course - we didn't actually take a random sample. What difference might we expect between the people in our dataset and a randomly selected set of Berkeley students?)\n",
    "\n",
    "In order to estimate the sampling variation, we'll use an approach called resampling or the bootstrap."
   ]
  },
  {
   "cell_type": "markdown",
   "metadata": {},
   "source": [
    "We can take one resample of our survey like this:"
   ]
  },
  {
   "cell_type": "code",
   "execution_count": 24,
   "metadata": {},
   "outputs": [],
   "source": [
    "resampled_survey = survey.select('number_alters_recoded').sample(num_responses)"
   ]
  },
  {
   "cell_type": "markdown",
   "metadata": {},
   "source": [
    "To see what happened here, let's look at `resampled_survey`:"
   ]
  },
  {
   "cell_type": "code",
   "execution_count": 25,
   "metadata": {},
   "outputs": [
    {
     "data": {
      "text/html": [
       "<table border=\"1\" class=\"dataframe\">\n",
       "    <thead>\n",
       "        <tr>\n",
       "            <th>number_alters_recoded</th>\n",
       "        </tr>\n",
       "    </thead>\n",
       "    <tbody>\n",
       "        <tr>\n",
       "            <td>5                    </td>\n",
       "        </tr>\n",
       "        <tr>\n",
       "            <td>5                    </td>\n",
       "        </tr>\n",
       "        <tr>\n",
       "            <td>5                    </td>\n",
       "        </tr>\n",
       "        <tr>\n",
       "            <td>5                    </td>\n",
       "        </tr>\n",
       "        <tr>\n",
       "            <td>5                    </td>\n",
       "        </tr>\n",
       "        <tr>\n",
       "            <td>5                    </td>\n",
       "        </tr>\n",
       "        <tr>\n",
       "            <td>3                    </td>\n",
       "        </tr>\n",
       "        <tr>\n",
       "            <td>4                    </td>\n",
       "        </tr>\n",
       "        <tr>\n",
       "            <td>3                    </td>\n",
       "        </tr>\n",
       "        <tr>\n",
       "            <td>5                    </td>\n",
       "        </tr>\n",
       "    </tbody>\n",
       "</table>\n",
       "<p>... (151 rows omitted)</p>"
      ],
      "text/plain": [
       "number_alters_recoded\n",
       "5\n",
       "5\n",
       "5\n",
       "5\n",
       "5\n",
       "5\n",
       "3\n",
       "4\n",
       "3\n",
       "5\n",
       "... (151 rows omitted)"
      ]
     },
     "execution_count": 25,
     "metadata": {},
     "output_type": "execute_result"
    }
   ],
   "source": [
    "resampled_survey"
   ]
  },
  {
   "cell_type": "markdown",
   "metadata": {},
   "source": [
    "`resampled_survey` is a random sample of the data from the `number_alters_recoded` values recorded in the original survey dataset."
   ]
  },
  {
   "cell_type": "markdown",
   "metadata": {},
   "source": [
    "To estimate the sampling variation, we need many resamples. So we'll stick the resampling in a loop:"
   ]
  },
  {
   "cell_type": "code",
   "execution_count": 26,
   "metadata": {},
   "outputs": [],
   "source": [
    "resampled_number_alters = make_array()\n",
    "\n",
    "for _ in np.arange(10000):\n",
    "    # NB: num_responses rows in our dataset\n",
    "    resampled_survey = survey.select('number_alters_recoded').sample(num_responses)  # resample the survey\n",
    "    resampled_number_alters = np.append(resampled_number_alters, \n",
    "                                        np.mean(resampled_survey['number_alters_recoded'])) # calculate the mean and add it to our list of means\n",
    "resampled_net_size = Table().with_column('number_alters_recoded', resampled_number_alters)"
   ]
  },
  {
   "cell_type": "markdown",
   "metadata": {},
   "source": [
    "`resampled_net_size` now has the average number of alters calculated for many different resamples of our data."
   ]
  },
  {
   "cell_type": "markdown",
   "metadata": {},
   "source": [
    "Let's look at the distribution of resampled network sizes"
   ]
  },
  {
   "cell_type": "code",
   "execution_count": 27,
   "metadata": {},
   "outputs": [
    {
     "data": {
      "image/png": "[encoded data removed]",
      "text/plain": [
       "<Figure size 432x288 with 1 Axes>"
      ]
     },
     "metadata": {},
     "output_type": "display_data"
    }
   ],
   "source": [
    "resampled_net_size.hist('number_alters_recoded')"
   ]
  },
  {
   "cell_type": "markdown",
   "metadata": {},
   "source": [
    "We see that we do indeed get different estimates from sample to sample, but they are all bigger than 3. So this analysis suggests that it's safe to conclude that Berkeley students' discussion networks are bigger than the average American's discussion networks. This conclusion is based on our assumptions that (1) that we have a random sample of Berkeley students; and (2) that the average American's discussion network has 3 people in it."
   ]
  },
  {
   "cell_type": "markdown",
   "metadata": {},
   "source": [
    "# Respondents' confidants"
   ]
  },
  {
   "cell_type": "markdown",
   "metadata": {},
   "source": [
    "Now let's dig a little deeper into who was names as a confidant by our survey respondents."
   ]
  },
  {
   "cell_type": "markdown",
   "metadata": {},
   "source": [
    "## Relationship between respondent and first alter named: gender"
   ]
  },
  {
   "cell_type": "markdown",
   "metadata": {},
   "source": [
    "In Lab, you'll learn how to work with all of the alters that were named. Here in lecture, we'll keep things simple by looking at the relationship between the respondent and the first alter that the respondent named."
   ]
  },
  {
   "cell_type": "markdown",
   "metadata": {},
   "source": [
    "We'll start by looking at the alter's gender."
   ]
  },
  {
   "cell_type": "markdown",
   "metadata": {},
   "source": [
    "What is the distribution of genders among the first alters named?"
   ]
  },
  {
   "cell_type": "code",
   "execution_count": 28,
   "metadata": {},
   "outputs": [
    {
     "data": {
      "text/html": [
       "<table border=\"1\" class=\"dataframe\">\n",
       "    <thead>\n",
       "        <tr>\n",
       "            <th>alter1_gender</th> <th>count</th>\n",
       "        </tr>\n",
       "    </thead>\n",
       "    <tbody>\n",
       "        <tr>\n",
       "            <td>Female       </td> <td>104  </td>\n",
       "        </tr>\n",
       "        <tr>\n",
       "            <td>Male         </td> <td>57   </td>\n",
       "        </tr>\n",
       "    </tbody>\n",
       "</table>"
      ],
      "text/plain": [
       "alter1_gender | count\n",
       "Female        | 104\n",
       "Male          | 57"
      ]
     },
     "execution_count": 28,
     "metadata": {},
     "output_type": "execute_result"
    }
   ],
   "source": [
    "# table of genders of the first alter named\n",
    "survey.group('alter1_gender')"
   ]
  },
  {
   "cell_type": "markdown",
   "metadata": {},
   "source": [
    "Does the gender of the first named alter seem to be related to the gender of the ego?"
   ]
  },
  {
   "cell_type": "code",
   "execution_count": 29,
   "metadata": {},
   "outputs": [
    {
     "data": {
      "text/html": [
       "<div>\n",
       "<style scoped>\n",
       "    .dataframe tbody tr th:only-of-type {\n",
       "        vertical-align: middle;\n",
       "    }\n",
       "\n",
       "    .dataframe tbody tr th {\n",
       "        vertical-align: top;\n",
       "    }\n",
       "\n",
       "    .dataframe thead th {\n",
       "        text-align: right;\n",
       "    }\n",
       "</style>\n",
       "<table border=\"1\" class=\"dataframe\">\n",
       "  <thead>\n",
       "    <tr style=\"text-align: right;\">\n",
       "      <th>alter</th>\n",
       "      <th>Female</th>\n",
       "      <th>Male</th>\n",
       "    </tr>\n",
       "    <tr>\n",
       "      <th>ego</th>\n",
       "      <th></th>\n",
       "      <th></th>\n",
       "    </tr>\n",
       "  </thead>\n",
       "  <tbody>\n",
       "    <tr>\n",
       "      <th>Female</th>\n",
       "      <td>72</td>\n",
       "      <td>23</td>\n",
       "    </tr>\n",
       "    <tr>\n",
       "      <th>Male</th>\n",
       "      <td>31</td>\n",
       "      <td>34</td>\n",
       "    </tr>\n",
       "    <tr>\n",
       "      <th>Other</th>\n",
       "      <td>1</td>\n",
       "      <td>0</td>\n",
       "    </tr>\n",
       "  </tbody>\n",
       "</table>\n",
       "</div>"
      ],
      "text/plain": [
       "alter   Female  Male\n",
       "ego                 \n",
       "Female      72    23\n",
       "Male        31    34\n",
       "Other        1     0"
      ]
     },
     "execution_count": 29,
     "metadata": {},
     "output_type": "execute_result"
    }
   ],
   "source": [
    "# crosstab of respondent and alter1 gender\n",
    "pd.crosstab(survey['respondent_gender'], survey['alter1_gender'], rownames=['ego'], colnames=['alter'])"
   ]
  },
  {
   "cell_type": "markdown",
   "metadata": {},
   "source": [
    "We might want to improve this table by looking at proportions by row. (NB: why by row?)"
   ]
  },
  {
   "cell_type": "code",
   "execution_count": 30,
   "metadata": {},
   "outputs": [
    {
     "data": {
      "text/html": [
       "<div>\n",
       "<style scoped>\n",
       "    .dataframe tbody tr th:only-of-type {\n",
       "        vertical-align: middle;\n",
       "    }\n",
       "\n",
       "    .dataframe tbody tr th {\n",
       "        vertical-align: top;\n",
       "    }\n",
       "\n",
       "    .dataframe thead th {\n",
       "        text-align: right;\n",
       "    }\n",
       "</style>\n",
       "<table border=\"1\" class=\"dataframe\">\n",
       "  <thead>\n",
       "    <tr style=\"text-align: right;\">\n",
       "      <th>alter</th>\n",
       "      <th>Female</th>\n",
       "      <th>Male</th>\n",
       "    </tr>\n",
       "    <tr>\n",
       "      <th>ego</th>\n",
       "      <th></th>\n",
       "      <th></th>\n",
       "    </tr>\n",
       "  </thead>\n",
       "  <tbody>\n",
       "    <tr>\n",
       "      <th>Female</th>\n",
       "      <td>0.757895</td>\n",
       "      <td>0.242105</td>\n",
       "    </tr>\n",
       "    <tr>\n",
       "      <th>Male</th>\n",
       "      <td>0.476923</td>\n",
       "      <td>0.523077</td>\n",
       "    </tr>\n",
       "    <tr>\n",
       "      <th>Other</th>\n",
       "      <td>1.000000</td>\n",
       "      <td>0.000000</td>\n",
       "    </tr>\n",
       "  </tbody>\n",
       "</table>\n",
       "</div>"
      ],
      "text/plain": [
       "alter     Female      Male\n",
       "ego                       \n",
       "Female  0.757895  0.242105\n",
       "Male    0.476923  0.523077\n",
       "Other   1.000000  0.000000"
      ]
     },
     "execution_count": 30,
     "metadata": {},
     "output_type": "execute_result"
    }
   ],
   "source": [
    "pd.crosstab(survey['respondent_gender'], survey['alter1_gender'], \n",
    "            rownames=['ego'], colnames=['alter'], normalize='index')"
   ]
  },
  {
   "cell_type": "markdown",
   "metadata": {},
   "source": [
    "How many egos name alters of a different gender? (We'll call these *nonhomogenous alters*)"
   ]
  },
  {
   "cell_type": "code",
   "execution_count": 31,
   "metadata": {},
   "outputs": [
    {
     "data": {
      "text/plain": [
       "0.3416149068322981"
      ]
     },
     "execution_count": 31,
     "metadata": {},
     "output_type": "execute_result"
    }
   ],
   "source": [
    "## calculate the fraction of all ties that involve pairs of different genders\n",
    "obs_frac_nonhom = (23 + 31 + 1) / (72 + 23 + 31 + 34 + 1) # SOLUTION\n",
    "obs_frac_nonhom"
   ]
  },
  {
   "cell_type": "markdown",
   "metadata": {},
   "source": [
    "### Is this a meaningful difference?"
   ]
  },
  {
   "cell_type": "markdown",
   "metadata": {},
   "source": [
    "Again, we are faced with an important question: is the observed fraction of ego-alter pairs that is nonhomogenous by gender high? Low? What would we expect it to be?"
   ]
  },
  {
   "cell_type": "markdown",
   "metadata": {},
   "source": [
    "To answer this question, we have to think about what we would expect to see if picking an alter were random"
   ]
  },
  {
   "cell_type": "code",
   "execution_count": 32,
   "metadata": {},
   "outputs": [
    {
     "data": {
      "text/plain": [
       "161"
      ]
     },
     "execution_count": 32,
     "metadata": {},
     "output_type": "execute_result"
    }
   ],
   "source": [
    "survey_alter_gender = survey.to_df()\n",
    "survey_alter_gender = Table().from_df(survey_alter_gender)\n",
    "num_responses_gender = survey_alter_gender.num_rows\n",
    "num_responses_gender"
   ]
  },
  {
   "cell_type": "markdown",
   "metadata": {},
   "source": [
    "Let's shuffle our data to guarantee that the gender of the alter is random:"
   ]
  },
  {
   "cell_type": "code",
   "execution_count": 34,
   "metadata": {},
   "outputs": [
    {
     "data": {
      "text/html": [
       "<table border=\"1\" class=\"dataframe\">\n",
       "    <thead>\n",
       "        <tr>\n",
       "            <th>respondent_gender</th> <th>alter1_gender</th>\n",
       "        </tr>\n",
       "    </thead>\n",
       "    <tbody>\n",
       "        <tr>\n",
       "            <td>Female           </td> <td>Male         </td>\n",
       "        </tr>\n",
       "        <tr>\n",
       "            <td>Female           </td> <td>Female       </td>\n",
       "        </tr>\n",
       "        <tr>\n",
       "            <td>Other            </td> <td>Female       </td>\n",
       "        </tr>\n",
       "        <tr>\n",
       "            <td>Female           </td> <td>Male         </td>\n",
       "        </tr>\n",
       "        <tr>\n",
       "            <td>Male             </td> <td>Female       </td>\n",
       "        </tr>\n",
       "        <tr>\n",
       "            <td>Female           </td> <td>Female       </td>\n",
       "        </tr>\n",
       "        <tr>\n",
       "            <td>Male             </td> <td>Male         </td>\n",
       "        </tr>\n",
       "        <tr>\n",
       "            <td>Male             </td> <td>Male         </td>\n",
       "        </tr>\n",
       "        <tr>\n",
       "            <td>Female           </td> <td>Female       </td>\n",
       "        </tr>\n",
       "        <tr>\n",
       "            <td>Male             </td> <td>Male         </td>\n",
       "        </tr>\n",
       "    </tbody>\n",
       "</table>\n",
       "<p>... (151 rows omitted)</p>"
      ],
      "text/plain": [
       "respondent_gender | alter1_gender\n",
       "Female            | Male\n",
       "Female            | Female\n",
       "Other             | Female\n",
       "Female            | Male\n",
       "Male              | Female\n",
       "Female            | Female\n",
       "Male              | Male\n",
       "Male              | Male\n",
       "Female            | Female\n",
       "Male              | Male\n",
       "... (151 rows omitted)"
      ]
     },
     "execution_count": 34,
     "metadata": {},
     "output_type": "execute_result"
    }
   ],
   "source": [
    "# shuffle the order of the reported genders\n",
    "permuted_alter_gender = survey_alter_gender.select('alter1_gender').sample(num_responses_gender) # NB: num_responses rows in our dataset\n",
    "# make a table with respondent gender and the shuffled alter genders\n",
    "permuted_dyads = Table().with_columns(\n",
    "    'respondent_gender', survey_alter_gender.column('respondent_gender'),\n",
    "    'alter1_gender', permuted_alter_gender.column(0))\n",
    "permuted_dyads"
   ]
  },
  {
   "cell_type": "markdown",
   "metadata": {},
   "source": [
    "We can summarize this relationship with a correlation coefficient"
   ]
  },
  {
   "cell_type": "markdown",
   "metadata": {},
   "source": [
    "This reshuffled version of the data is the basis for a type of *null model* under which there is no relationship between ego's gender and alter's gender. This null model can be a useful comparison point for the observed data.  \n",
    "*(Note that other null models are possible here - we won't dig deeper right now.*)"
   ]
  },
  {
   "cell_type": "markdown",
   "metadata": {},
   "source": [
    "Let's write a function to help calculate the fraction of dyads that goes from male to female or from female to male."
   ]
  },
  {
   "cell_type": "code",
   "execution_count": 35,
   "metadata": {},
   "outputs": [],
   "source": [
    "def frac_nonhomogenous_dyads(alter1_df):\n",
    "    \"\"\"\n",
    "    Calculate the fraction of dyads that are made up of members of different genders\n",
    "    \"\"\"\n",
    "    counts_m_nonhom = alter1_df.group(['respondent_gender', 'alter1_gender']).where('respondent_gender', 'Male').where('alter1_gender', are.not_equal_to('Male'))\n",
    "    m_nonhom = counts_m_nonhom.column('count').item(0)\n",
    "    counts_f_nonhom = alter1_df.group(['respondent_gender', 'alter1_gender']).where('respondent_gender', 'Female').where('alter1_gender', are.not_equal_to('Female'))\n",
    "    f_nonhom = counts_f_nonhom.column('count').item(0)\n",
    "    counts_o_nonhom = alter1_df.group(['respondent_gender', 'alter1_gender']).where('respondent_gender', 'Other').where('alter1_gender', are.not_equal_to('Other'))\n",
    "    o_nonhom = counts_o_nonhom.column('count').item(0)\n",
    "    \n",
    "    return((m_nonhom + f_nonhom + o_nonhom)/alter1_df.num_rows)"
   ]
  },
  {
   "cell_type": "markdown",
   "metadata": {},
   "source": [
    "Let's check that we get the same response that we calculated by hand for the observed data."
   ]
  },
  {
   "cell_type": "code",
   "execution_count": 36,
   "metadata": {},
   "outputs": [
    {
     "name": "stderr",
     "output_type": "stream",
     "text": [
      "/Users/dennis/opt/anaconda3/lib/python3.7/site-packages/datascience/tables.py:920: VisibleDeprecationWarning: Creating an ndarray from ragged nested sequences (which is a list-or-tuple of lists-or-tuples-or ndarrays with different lengths or shapes) is deprecated. If you meant to do this, you must specify 'dtype=object' when creating the ndarray\n",
      "  values = np.array(tuple(values))\n"
     ]
    },
    {
     "data": {
      "text/plain": [
       "0.3416149068322981"
      ]
     },
     "execution_count": 36,
     "metadata": {},
     "output_type": "execute_result"
    }
   ],
   "source": [
    "frac_nonhomogenous_dyads(survey)"
   ]
  },
  {
   "cell_type": "markdown",
   "metadata": {},
   "source": [
    "Looks good."
   ]
  },
  {
   "cell_type": "markdown",
   "metadata": {},
   "source": [
    "What did we get on the permuted data?"
   ]
  },
  {
   "cell_type": "code",
   "execution_count": 37,
   "metadata": {},
   "outputs": [
    {
     "data": {
      "text/plain": [
       "0.5031055900621118"
      ]
     },
     "execution_count": 37,
     "metadata": {},
     "output_type": "execute_result"
    }
   ],
   "source": [
    "frac_nonhomogenous_dyads(permuted_dyads)"
   ]
  },
  {
   "cell_type": "markdown",
   "metadata": {},
   "source": [
    "Now take many resamples and calculate the fraction of cross-gender edges for each one.\n",
    "(This takes a couple of minutes.)"
   ]
  },
  {
   "cell_type": "code",
   "execution_count": 38,
   "metadata": {},
   "outputs": [],
   "source": [
    "nonhom_fracs = make_array()\n",
    "\n",
    "# NB: this loop follows a similar pattern to the loop we wrote above\n",
    "for _ in np.arange(1000):\n",
    "    permuted_alter_gender = survey_alter_gender.select('alter1_gender').sample(num_responses_gender) # NB: num_responses_gender rows in our dataset\n",
    "    permuted_dyads = Table().with_columns(\n",
    "        'respondent_gender', survey_alter_gender.column('respondent_gender'),\n",
    "        'alter1_gender', permuted_alter_gender.column(0))\n",
    "    nonhom_fracs = np.append(nonhom_fracs, frac_nonhomogenous_dyads(permuted_dyads))\n",
    "null_fracs = Table().with_column('frac_dyads_nonhom', nonhom_fracs)"
   ]
  },
  {
   "cell_type": "code",
   "execution_count": 39,
   "metadata": {},
   "outputs": [
    {
     "data": {
      "image/png": "[encoded data removed]",
      "text/plain": [
       "<Figure size 432x288 with 1 Axes>"
      ]
     },
     "metadata": {},
     "output_type": "display_data"
    }
   ],
   "source": [
    "# make a histogram showing the resampled fraction of dyads that are nonhomogenous\n",
    "null_fracs.hist('frac_dyads_nonhom')"
   ]
  },
  {
   "cell_type": "markdown",
   "metadata": {},
   "source": [
    "Let's add a plot showing where our observed value is, so that we can easily compare the observed value to the null distribution."
   ]
  },
  {
   "cell_type": "code",
   "execution_count": 40,
   "metadata": {},
   "outputs": [
    {
     "data": {
      "image/png": "[encoded data removed]",
      "text/plain": [
       "<Figure size 432x288 with 1 Axes>"
      ]
     },
     "metadata": {},
     "output_type": "display_data"
    }
   ],
   "source": [
    "null_fracs.hist('frac_dyads_nonhom')\n",
    "#plt.scatter(obs_frac_nonhom,0,c='red',s=80);\n",
    "plt.axvline(x=obs_frac_nonhom,c='red',linewidth=2);"
   ]
  },
  {
   "cell_type": "markdown",
   "metadata": {},
   "source": [
    "Let's compare the expected value (average) of the null model to this distribution"
   ]
  },
  {
   "cell_type": "code",
   "execution_count": 41,
   "metadata": {},
   "outputs": [
    {
     "data": {
      "image/png": "[encoded data removed]",
      "text/plain": [
       "<Figure size 432x288 with 1 Axes>"
      ]
     },
     "metadata": {},
     "output_type": "display_data"
    }
   ],
   "source": [
    "null_ev = np.mean(null_fracs['frac_dyads_nonhom'])\n",
    "null_fracs.hist('frac_dyads_nonhom')\n",
    "#plt.scatter(null_ev,0,c='yellow',s=80);\n",
    "plt.axvline(x=null_ev,c='yellow',linewidth=2);\n",
    "plt.axvline(x=obs_frac_nonhom,c='red',linewidth=2);"
   ]
  },
  {
   "cell_type": "markdown",
   "metadata": {},
   "source": [
    "## Relationship between respondent and first alter named: age"
   ]
  },
  {
   "cell_type": "markdown",
   "metadata": {},
   "source": [
    "How might you go about trying to summarize the relationship between the respondent and the first alter in terms of age? How strong do you think this relationship will be?"
   ]
  },
  {
   "cell_type": "markdown",
   "metadata": {},
   "source": [
    "_Type your answer here, replacing this text._"
   ]
  },
  {
   "cell_type": "markdown",
   "metadata": {},
   "source": [
    "We can summarize this relationship with a correlation coefficient"
   ]
  },
  {
   "cell_type": "code",
   "execution_count": 42,
   "metadata": {},
   "outputs": [
    {
     "data": {
      "text/html": [
       "<div>\n",
       "<style scoped>\n",
       "    .dataframe tbody tr th:only-of-type {\n",
       "        vertical-align: middle;\n",
       "    }\n",
       "\n",
       "    .dataframe tbody tr th {\n",
       "        vertical-align: top;\n",
       "    }\n",
       "\n",
       "    .dataframe thead th {\n",
       "        text-align: right;\n",
       "    }\n",
       "</style>\n",
       "<table border=\"1\" class=\"dataframe\">\n",
       "  <thead>\n",
       "    <tr style=\"text-align: right;\">\n",
       "      <th></th>\n",
       "      <th>respondent_age</th>\n",
       "      <th>alter1_age</th>\n",
       "    </tr>\n",
       "  </thead>\n",
       "  <tbody>\n",
       "    <tr>\n",
       "      <th>respondent_age</th>\n",
       "      <td>1.000000</td>\n",
       "      <td>0.259587</td>\n",
       "    </tr>\n",
       "    <tr>\n",
       "      <th>alter1_age</th>\n",
       "      <td>0.259587</td>\n",
       "      <td>1.000000</td>\n",
       "    </tr>\n",
       "  </tbody>\n",
       "</table>\n",
       "</div>"
      ],
      "text/plain": [
       "                respondent_age  alter1_age\n",
       "respondent_age        1.000000    0.259587\n",
       "alter1_age            0.259587    1.000000"
      ]
     },
     "execution_count": 42,
     "metadata": {},
     "output_type": "execute_result"
    }
   ],
   "source": [
    "# calculate the correlation coefficient\n",
    "survey.to_df()[['respondent_age', 'alter1_age']].corr()"
   ]
  },
  {
   "cell_type": "code",
   "execution_count": 43,
   "metadata": {},
   "outputs": [
    {
     "data": {
      "text/plain": [
       "array([[1.        , 0.25958658],\n",
       "       [0.25958658, 1.        ]])"
      ]
     },
     "execution_count": 43,
     "metadata": {},
     "output_type": "execute_result"
    }
   ],
   "source": [
    "# alternate way to do this using numpy (shows how to handle removing nans)\n",
    "mask = ~np.isnan(survey.column('respondent_age')) & ~np.isnan(survey.column('alter1_age'))\n",
    "np.corrcoef(survey['respondent_age'][mask], survey['alter1_age'][mask])"
   ]
  },
  {
   "cell_type": "markdown",
   "metadata": {},
   "source": [
    "Making a visualization helps suggest why the correlation coefficient is (perhaps) lower than expected:"
   ]
  },
  {
   "cell_type": "code",
   "execution_count": 44,
   "metadata": {},
   "outputs": [
    {
     "data": {
      "image/png": "[encoded data removed]",
      "text/plain": [
       "<Figure size 360x360 with 1 Axes>"
      ]
     },
     "metadata": {},
     "output_type": "display_data"
    }
   ],
   "source": [
    "# plot alter1_age (y axis) vs respondent_age (x axis)\n",
    "survey.scatter('respondent_age', 'alter1_age')"
   ]
  },
  {
   "cell_type": "markdown",
   "metadata": {},
   "source": [
    "You'll take a deeper dive in lab."
   ]
  },
  {
   "cell_type": "markdown",
   "metadata": {},
   "source": [
    "## Relationship between respondent and first alter named: class year"
   ]
  },
  {
   "cell_type": "code",
   "execution_count": null,
   "metadata": {},
   "outputs": [],
   "source": []
  },
  {
   "cell_type": "code",
   "execution_count": 45,
   "metadata": {},
   "outputs": [
    {
     "data": {
      "text/html": [
       "<div>\n",
       "<style scoped>\n",
       "    .dataframe tbody tr th:only-of-type {\n",
       "        vertical-align: middle;\n",
       "    }\n",
       "\n",
       "    .dataframe tbody tr th {\n",
       "        vertical-align: top;\n",
       "    }\n",
       "\n",
       "    .dataframe thead th {\n",
       "        text-align: right;\n",
       "    }\n",
       "</style>\n",
       "<table border=\"1\" class=\"dataframe\">\n",
       "  <thead>\n",
       "    <tr style=\"text-align: right;\">\n",
       "      <th>alter</th>\n",
       "      <th>Freshman</th>\n",
       "      <th>Junior</th>\n",
       "      <th>Other</th>\n",
       "      <th>Senior</th>\n",
       "      <th>Sophomore</th>\n",
       "    </tr>\n",
       "    <tr>\n",
       "      <th>ego</th>\n",
       "      <th></th>\n",
       "      <th></th>\n",
       "      <th></th>\n",
       "      <th></th>\n",
       "      <th></th>\n",
       "    </tr>\n",
       "  </thead>\n",
       "  <tbody>\n",
       "    <tr>\n",
       "      <th>Freshman</th>\n",
       "      <td>4</td>\n",
       "      <td>0</td>\n",
       "      <td>2</td>\n",
       "      <td>0</td>\n",
       "      <td>0</td>\n",
       "    </tr>\n",
       "    <tr>\n",
       "      <th>Junior</th>\n",
       "      <td>2</td>\n",
       "      <td>25</td>\n",
       "      <td>9</td>\n",
       "      <td>6</td>\n",
       "      <td>1</td>\n",
       "    </tr>\n",
       "    <tr>\n",
       "      <th>Other</th>\n",
       "      <td>0</td>\n",
       "      <td>0</td>\n",
       "      <td>6</td>\n",
       "      <td>1</td>\n",
       "      <td>0</td>\n",
       "    </tr>\n",
       "    <tr>\n",
       "      <th>Senior</th>\n",
       "      <td>0</td>\n",
       "      <td>4</td>\n",
       "      <td>41</td>\n",
       "      <td>46</td>\n",
       "      <td>0</td>\n",
       "    </tr>\n",
       "    <tr>\n",
       "      <th>Sophomore</th>\n",
       "      <td>0</td>\n",
       "      <td>1</td>\n",
       "      <td>7</td>\n",
       "      <td>1</td>\n",
       "      <td>5</td>\n",
       "    </tr>\n",
       "  </tbody>\n",
       "</table>\n",
       "</div>"
      ],
      "text/plain": [
       "alter      Freshman  Junior  Other  Senior  Sophomore\n",
       "ego                                                  \n",
       "Freshman          4       0      2       0          0\n",
       "Junior            2      25      9       6          1\n",
       "Other             0       0      6       1          0\n",
       "Senior            0       4     41      46          0\n",
       "Sophomore         0       1      7       1          5"
      ]
     },
     "execution_count": 45,
     "metadata": {},
     "output_type": "execute_result"
    }
   ],
   "source": [
    "# table showing counts of the class year of first alter named (cols) by class year of respondent (rows)\n",
    "pd.crosstab(survey['respondent_class'], survey['alter1_class'], rownames=['ego'], colnames=['alter'])"
   ]
  },
  {
   "cell_type": "code",
   "execution_count": 46,
   "metadata": {},
   "outputs": [
    {
     "data": {
      "text/html": [
       "<div>\n",
       "<style scoped>\n",
       "    .dataframe tbody tr th:only-of-type {\n",
       "        vertical-align: middle;\n",
       "    }\n",
       "\n",
       "    .dataframe tbody tr th {\n",
       "        vertical-align: top;\n",
       "    }\n",
       "\n",
       "    .dataframe thead th {\n",
       "        text-align: right;\n",
       "    }\n",
       "</style>\n",
       "<table border=\"1\" class=\"dataframe\">\n",
       "  <thead>\n",
       "    <tr style=\"text-align: right;\">\n",
       "      <th>alter</th>\n",
       "      <th>Freshman</th>\n",
       "      <th>Junior</th>\n",
       "      <th>Other</th>\n",
       "      <th>Senior</th>\n",
       "      <th>Sophomore</th>\n",
       "    </tr>\n",
       "    <tr>\n",
       "      <th>ego</th>\n",
       "      <th></th>\n",
       "      <th></th>\n",
       "      <th></th>\n",
       "      <th></th>\n",
       "      <th></th>\n",
       "    </tr>\n",
       "  </thead>\n",
       "  <tbody>\n",
       "    <tr>\n",
       "      <th>Freshman</th>\n",
       "      <td>0.666667</td>\n",
       "      <td>0.000000</td>\n",
       "      <td>0.333333</td>\n",
       "      <td>0.000000</td>\n",
       "      <td>0.000000</td>\n",
       "    </tr>\n",
       "    <tr>\n",
       "      <th>Junior</th>\n",
       "      <td>0.046512</td>\n",
       "      <td>0.581395</td>\n",
       "      <td>0.209302</td>\n",
       "      <td>0.139535</td>\n",
       "      <td>0.023256</td>\n",
       "    </tr>\n",
       "    <tr>\n",
       "      <th>Other</th>\n",
       "      <td>0.000000</td>\n",
       "      <td>0.000000</td>\n",
       "      <td>0.857143</td>\n",
       "      <td>0.142857</td>\n",
       "      <td>0.000000</td>\n",
       "    </tr>\n",
       "    <tr>\n",
       "      <th>Senior</th>\n",
       "      <td>0.000000</td>\n",
       "      <td>0.043956</td>\n",
       "      <td>0.450549</td>\n",
       "      <td>0.505495</td>\n",
       "      <td>0.000000</td>\n",
       "    </tr>\n",
       "    <tr>\n",
       "      <th>Sophomore</th>\n",
       "      <td>0.000000</td>\n",
       "      <td>0.071429</td>\n",
       "      <td>0.500000</td>\n",
       "      <td>0.071429</td>\n",
       "      <td>0.357143</td>\n",
       "    </tr>\n",
       "  </tbody>\n",
       "</table>\n",
       "</div>"
      ],
      "text/plain": [
       "alter      Freshman    Junior     Other    Senior  Sophomore\n",
       "ego                                                         \n",
       "Freshman   0.666667  0.000000  0.333333  0.000000   0.000000\n",
       "Junior     0.046512  0.581395  0.209302  0.139535   0.023256\n",
       "Other      0.000000  0.000000  0.857143  0.142857   0.000000\n",
       "Senior     0.000000  0.043956  0.450549  0.505495   0.000000\n",
       "Sophomore  0.000000  0.071429  0.500000  0.071429   0.357143"
      ]
     },
     "execution_count": 46,
     "metadata": {},
     "output_type": "execute_result"
    }
   ],
   "source": [
    "# normalize the table we just made by rows\n",
    "pd.crosstab(survey['respondent_class'], survey['alter1_class'], rownames=['ego'], colnames=['alter'], \n",
    "            normalize='index')"
   ]
  },
  {
   "cell_type": "code",
   "execution_count": 47,
   "metadata": {},
   "outputs": [
    {
     "data": {
      "image/png": "[encoded data removed]",
      "text/plain": [
       "<Figure size 432x288 with 1 Axes>"
      ]
     },
     "metadata": {},
     "output_type": "display_data"
    },
    {
     "data": {
      "image/png": "[encoded data removed]",
      "text/plain": [
       "<Figure size 432x288 with 1 Axes>"
      ]
     },
     "metadata": {},
     "output_type": "display_data"
    },
    {
     "data": {
      "image/png": "[encoded data removed]",
      "text/plain": [
       "<Figure size 432x288 with 1 Axes>"
      ]
     },
     "metadata": {},
     "output_type": "display_data"
    },
    {
     "data": {
      "image/png": "[encoded data removed]",
      "text/plain": [
       "<Figure size 432x288 with 1 Axes>"
      ]
     },
     "metadata": {},
     "output_type": "display_data"
    },
    {
     "data": {
      "image/png": "[encoded data removed]",
      "text/plain": [
       "<Figure size 432x288 with 1 Axes>"
      ]
     },
     "metadata": {},
     "output_type": "display_data"
    }
   ],
   "source": [
    "# make a plot showing the distribution of alter class for each ego class value\n",
    "for g in np.unique(survey['respondent_class']):\n",
    "    this_class_resp = survey.where('respondent_class', are.equal_to(g))\n",
    "    this_class_resp.group('alter1_class').barh('alter1_class');\n",
    "    plt.title('Ego: ' + g)"
   ]
  },
  {
   "cell_type": "code",
   "execution_count": null,
   "metadata": {},
   "outputs": [],
   "source": [
    "# end of demo"
   ]
  }
 ],
 "metadata": {
  "anaconda-cloud": {},
  "kernelspec": {
   "display_name": "Python 3",
   "language": "python",
   "name": "python3"
  },
  "language_info": {
   "codemirror_mode": {
    "name": "ipython",
    "version": 3
   },
   "file_extension": ".py",
   "mimetype": "text/x-python",
   "name": "python",
   "nbconvert_exporter": "python",
   "pygments_lexer": "ipython3",
   "version": "3.7.7"
  },
  "otter": {
   "OK_FORMAT": true,
   "tests": {}
  }
 },
 "nbformat": 4,
 "nbformat_minor": 1
}
